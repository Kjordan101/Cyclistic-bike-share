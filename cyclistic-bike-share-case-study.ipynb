{
 "cells": [
  {
   "cell_type": "markdown",
   "id": "d9348f1a",
   "metadata": {
    "papermill": {
     "duration": 0.01355,
     "end_time": "2023-09-23T01:51:11.454808",
     "exception": false,
     "start_time": "2023-09-23T01:51:11.441258",
     "status": "completed"
    },
    "tags": []
   },
   "source": [
    "# Introduction\n",
    "This main goal of this project is to analyze the many ways that membership holders and casual users differ from one another. This project is a part of the Google Data Analytics Professional Certificate and draws upon a data set from a fictional bike sharing company *Cyclistic*. The data is composed of rider information over 2022.\n",
    "## Key Tasks\n",
    "* Our main goal is to convert more casual riders into membership holders by better understanding how the two differ from one another.\n",
    "* Namely, we want to understand how the bikes are used differently between the two types of riders."
   ]
  },
  {
   "cell_type": "code",
   "execution_count": 1,
   "id": "9c0259ce",
   "metadata": {
    "_execution_state": "idle",
    "_uuid": "051d70d956493feee0c6d64651c6a088724dca2a",
    "execution": {
     "iopub.execute_input": "2023-09-23T01:51:11.485270Z",
     "iopub.status.busy": "2023-09-23T01:51:11.482831Z",
     "iopub.status.idle": "2023-09-23T01:51:12.790469Z",
     "shell.execute_reply": "2023-09-23T01:51:12.788530Z"
    },
    "papermill": {
     "duration": 1.324526,
     "end_time": "2023-09-23T01:51:12.793291",
     "exception": false,
     "start_time": "2023-09-23T01:51:11.468765",
     "status": "completed"
    },
    "tags": []
   },
   "outputs": [
    {
     "name": "stderr",
     "output_type": "stream",
     "text": [
      "── \u001b[1mAttaching core tidyverse packages\u001b[22m ──────────────────────── tidyverse 2.0.0 ──\n",
      "\u001b[32m✔\u001b[39m \u001b[34mdplyr    \u001b[39m 1.1.2     \u001b[32m✔\u001b[39m \u001b[34mreadr    \u001b[39m 2.1.4\n",
      "\u001b[32m✔\u001b[39m \u001b[34mforcats  \u001b[39m 1.0.0     \u001b[32m✔\u001b[39m \u001b[34mstringr  \u001b[39m 1.5.0\n",
      "\u001b[32m✔\u001b[39m \u001b[34mggplot2  \u001b[39m 3.4.2     \u001b[32m✔\u001b[39m \u001b[34mtibble   \u001b[39m 3.2.1\n",
      "\u001b[32m✔\u001b[39m \u001b[34mlubridate\u001b[39m 1.9.2     \u001b[32m✔\u001b[39m \u001b[34mtidyr    \u001b[39m 1.3.0\n",
      "\u001b[32m✔\u001b[39m \u001b[34mpurrr    \u001b[39m 1.0.1     \n",
      "── \u001b[1mConflicts\u001b[22m ────────────────────────────────────────── tidyverse_conflicts() ──\n",
      "\u001b[31m✖\u001b[39m \u001b[34mdplyr\u001b[39m::\u001b[32mfilter()\u001b[39m masks \u001b[34mstats\u001b[39m::filter()\n",
      "\u001b[31m✖\u001b[39m \u001b[34mdplyr\u001b[39m::\u001b[32mlag()\u001b[39m    masks \u001b[34mstats\u001b[39m::lag()\n",
      "\u001b[36mℹ\u001b[39m Use the conflicted package (\u001b[3m\u001b[34m<http://conflicted.r-lib.org/>\u001b[39m\u001b[23m) to force all conflicts to become errors\n"
     ]
    },
    {
     "data": {
      "text/html": [
       "<style>\n",
       ".list-inline {list-style: none; margin:0; padding: 0}\n",
       ".list-inline>li {display: inline-block}\n",
       ".list-inline>li:not(:last-child)::after {content: \"\\00b7\"; padding: 0 .5ex}\n",
       "</style>\n",
       "<ol class=list-inline><li>'202201-divvy-tripdata.csv'</li><li>'202202-divvy-tripdata.csv'</li><li>'202203-divvy-tripdata.csv'</li><li>'202204-divvy-tripdata.csv'</li><li>'202205-divvy-tripdata.csv'</li><li>'202206-divvy-tripdata.csv'</li><li>'202207-divvy-tripdata.csv'</li><li>'202208-divvy-tripdata.csv'</li><li>'202209-divvy-tripdata.csv'</li><li>'202210-divvy-tripdata.csv'</li><li>'202211-divvy-tripdata.csv'</li><li>'202212-divvy-tripdata.csv'</li></ol>\n"
      ],
      "text/latex": [
       "\\begin{enumerate*}\n",
       "\\item '202201-divvy-tripdata.csv'\n",
       "\\item '202202-divvy-tripdata.csv'\n",
       "\\item '202203-divvy-tripdata.csv'\n",
       "\\item '202204-divvy-tripdata.csv'\n",
       "\\item '202205-divvy-tripdata.csv'\n",
       "\\item '202206-divvy-tripdata.csv'\n",
       "\\item '202207-divvy-tripdata.csv'\n",
       "\\item '202208-divvy-tripdata.csv'\n",
       "\\item '202209-divvy-tripdata.csv'\n",
       "\\item '202210-divvy-tripdata.csv'\n",
       "\\item '202211-divvy-tripdata.csv'\n",
       "\\item '202212-divvy-tripdata.csv'\n",
       "\\end{enumerate*}\n"
      ],
      "text/markdown": [
       "1. '202201-divvy-tripdata.csv'\n",
       "2. '202202-divvy-tripdata.csv'\n",
       "3. '202203-divvy-tripdata.csv'\n",
       "4. '202204-divvy-tripdata.csv'\n",
       "5. '202205-divvy-tripdata.csv'\n",
       "6. '202206-divvy-tripdata.csv'\n",
       "7. '202207-divvy-tripdata.csv'\n",
       "8. '202208-divvy-tripdata.csv'\n",
       "9. '202209-divvy-tripdata.csv'\n",
       "10. '202210-divvy-tripdata.csv'\n",
       "11. '202211-divvy-tripdata.csv'\n",
       "12. '202212-divvy-tripdata.csv'\n",
       "\n",
       "\n"
      ],
      "text/plain": [
       " [1] \"202201-divvy-tripdata.csv\" \"202202-divvy-tripdata.csv\"\n",
       " [3] \"202203-divvy-tripdata.csv\" \"202204-divvy-tripdata.csv\"\n",
       " [5] \"202205-divvy-tripdata.csv\" \"202206-divvy-tripdata.csv\"\n",
       " [7] \"202207-divvy-tripdata.csv\" \"202208-divvy-tripdata.csv\"\n",
       " [9] \"202209-divvy-tripdata.csv\" \"202210-divvy-tripdata.csv\"\n",
       "[11] \"202211-divvy-tripdata.csv\" \"202212-divvy-tripdata.csv\""
      ]
     },
     "metadata": {},
     "output_type": "display_data"
    }
   ],
   "source": [
    "#loading tidyverse\n",
    "library(tidyverse) # metapackage of all tidyverse packages\n",
    "#Listing all data in folders\n",
    "list.files(path = \"../input/bike-share-trip-data\")\n",
    "#R was unable to locate our CSVs and was looking in working directory\n",
    "#As a bandaid on the wound I decided to change the working directory until\n",
    "#a more permanent fix can be found\n",
    "setwd(\"../input/bike-share-trip-data\")"
   ]
  },
  {
   "cell_type": "markdown",
   "id": "6ec6f455",
   "metadata": {
    "papermill": {
     "duration": 0.012779,
     "end_time": "2023-09-23T01:51:12.818739",
     "exception": false,
     "start_time": "2023-09-23T01:51:12.805960",
     "status": "completed"
    },
    "tags": []
   },
   "source": [
    "# Preparing and Cleaning our data\n",
    "Rather than using read_csv() 12 times I decided to impliment a function to assign all of our CSV files into one data frame"
   ]
  },
  {
   "cell_type": "code",
   "execution_count": 2,
   "id": "1d563d96",
   "metadata": {
    "execution": {
     "iopub.execute_input": "2023-09-23T01:51:12.879341Z",
     "iopub.status.busy": "2023-09-23T01:51:12.845919Z",
     "iopub.status.idle": "2023-09-23T01:51:51.126322Z",
     "shell.execute_reply": "2023-09-23T01:51:51.124293Z"
    },
    "papermill": {
     "duration": 38.299157,
     "end_time": "2023-09-23T01:51:51.130506",
     "exception": false,
     "start_time": "2023-09-23T01:51:12.831349",
     "status": "completed"
    },
    "tags": []
   },
   "outputs": [
    {
     "name": "stderr",
     "output_type": "stream",
     "text": [
      "\u001b[1mRows: \u001b[22m\u001b[34m103770\u001b[39m \u001b[1mColumns: \u001b[22m\u001b[34m13\u001b[39m\n",
      "\u001b[36m──\u001b[39m \u001b[1mColumn specification\u001b[22m \u001b[36m────────────────────────────────────────────────────────\u001b[39m\n",
      "\u001b[1mDelimiter:\u001b[22m \",\"\n",
      "\u001b[31mchr\u001b[39m  (7): ride_id, rideable_type, start_station_name, start_station_id, end_...\n",
      "\u001b[32mdbl\u001b[39m  (4): start_lat, start_lng, end_lat, end_lng\n",
      "\u001b[34mdttm\u001b[39m (2): started_at, ended_at\n",
      "\n",
      "\u001b[36mℹ\u001b[39m Use `spec()` to retrieve the full column specification for this data.\n",
      "\u001b[36mℹ\u001b[39m Specify the column types or set `show_col_types = FALSE` to quiet this message.\n",
      "\u001b[1mRows: \u001b[22m\u001b[34m115609\u001b[39m \u001b[1mColumns: \u001b[22m\u001b[34m13\u001b[39m\n",
      "\u001b[36m──\u001b[39m \u001b[1mColumn specification\u001b[22m \u001b[36m────────────────────────────────────────────────────────\u001b[39m\n",
      "\u001b[1mDelimiter:\u001b[22m \",\"\n",
      "\u001b[31mchr\u001b[39m  (7): ride_id, rideable_type, start_station_name, start_station_id, end_...\n",
      "\u001b[32mdbl\u001b[39m  (4): start_lat, start_lng, end_lat, end_lng\n",
      "\u001b[34mdttm\u001b[39m (2): started_at, ended_at\n",
      "\n",
      "\u001b[36mℹ\u001b[39m Use `spec()` to retrieve the full column specification for this data.\n",
      "\u001b[36mℹ\u001b[39m Specify the column types or set `show_col_types = FALSE` to quiet this message.\n",
      "\u001b[1mRows: \u001b[22m\u001b[34m284042\u001b[39m \u001b[1mColumns: \u001b[22m\u001b[34m13\u001b[39m\n",
      "\u001b[36m──\u001b[39m \u001b[1mColumn specification\u001b[22m \u001b[36m────────────────────────────────────────────────────────\u001b[39m\n",
      "\u001b[1mDelimiter:\u001b[22m \",\"\n",
      "\u001b[31mchr\u001b[39m  (7): ride_id, rideable_type, start_station_name, start_station_id, end_...\n",
      "\u001b[32mdbl\u001b[39m  (4): start_lat, start_lng, end_lat, end_lng\n",
      "\u001b[34mdttm\u001b[39m (2): started_at, ended_at\n",
      "\n",
      "\u001b[36mℹ\u001b[39m Use `spec()` to retrieve the full column specification for this data.\n",
      "\u001b[36mℹ\u001b[39m Specify the column types or set `show_col_types = FALSE` to quiet this message.\n",
      "\u001b[1mRows: \u001b[22m\u001b[34m371249\u001b[39m \u001b[1mColumns: \u001b[22m\u001b[34m13\u001b[39m\n",
      "\u001b[36m──\u001b[39m \u001b[1mColumn specification\u001b[22m \u001b[36m────────────────────────────────────────────────────────\u001b[39m\n",
      "\u001b[1mDelimiter:\u001b[22m \",\"\n",
      "\u001b[31mchr\u001b[39m  (7): ride_id, rideable_type, start_station_name, start_station_id, end_...\n",
      "\u001b[32mdbl\u001b[39m  (4): start_lat, start_lng, end_lat, end_lng\n",
      "\u001b[34mdttm\u001b[39m (2): started_at, ended_at\n",
      "\n",
      "\u001b[36mℹ\u001b[39m Use `spec()` to retrieve the full column specification for this data.\n",
      "\u001b[36mℹ\u001b[39m Specify the column types or set `show_col_types = FALSE` to quiet this message.\n",
      "\u001b[1mRows: \u001b[22m\u001b[34m634858\u001b[39m \u001b[1mColumns: \u001b[22m\u001b[34m13\u001b[39m\n",
      "\u001b[36m──\u001b[39m \u001b[1mColumn specification\u001b[22m \u001b[36m────────────────────────────────────────────────────────\u001b[39m\n",
      "\u001b[1mDelimiter:\u001b[22m \",\"\n",
      "\u001b[31mchr\u001b[39m  (7): ride_id, rideable_type, start_station_name, start_station_id, end_...\n",
      "\u001b[32mdbl\u001b[39m  (4): start_lat, start_lng, end_lat, end_lng\n",
      "\u001b[34mdttm\u001b[39m (2): started_at, ended_at\n",
      "\n",
      "\u001b[36mℹ\u001b[39m Use `spec()` to retrieve the full column specification for this data.\n",
      "\u001b[36mℹ\u001b[39m Specify the column types or set `show_col_types = FALSE` to quiet this message.\n",
      "\u001b[1mRows: \u001b[22m\u001b[34m769204\u001b[39m \u001b[1mColumns: \u001b[22m\u001b[34m13\u001b[39m\n",
      "\u001b[36m──\u001b[39m \u001b[1mColumn specification\u001b[22m \u001b[36m────────────────────────────────────────────────────────\u001b[39m\n",
      "\u001b[1mDelimiter:\u001b[22m \",\"\n",
      "\u001b[31mchr\u001b[39m  (7): ride_id, rideable_type, start_station_name, start_station_id, end_...\n",
      "\u001b[32mdbl\u001b[39m  (4): start_lat, start_lng, end_lat, end_lng\n",
      "\u001b[34mdttm\u001b[39m (2): started_at, ended_at\n",
      "\n",
      "\u001b[36mℹ\u001b[39m Use `spec()` to retrieve the full column specification for this data.\n",
      "\u001b[36mℹ\u001b[39m Specify the column types or set `show_col_types = FALSE` to quiet this message.\n",
      "\u001b[1mRows: \u001b[22m\u001b[34m823488\u001b[39m \u001b[1mColumns: \u001b[22m\u001b[34m13\u001b[39m\n",
      "\u001b[36m──\u001b[39m \u001b[1mColumn specification\u001b[22m \u001b[36m────────────────────────────────────────────────────────\u001b[39m\n",
      "\u001b[1mDelimiter:\u001b[22m \",\"\n",
      "\u001b[31mchr\u001b[39m  (7): ride_id, rideable_type, start_station_name, start_station_id, end_...\n",
      "\u001b[32mdbl\u001b[39m  (4): start_lat, start_lng, end_lat, end_lng\n",
      "\u001b[34mdttm\u001b[39m (2): started_at, ended_at\n",
      "\n",
      "\u001b[36mℹ\u001b[39m Use `spec()` to retrieve the full column specification for this data.\n",
      "\u001b[36mℹ\u001b[39m Specify the column types or set `show_col_types = FALSE` to quiet this message.\n",
      "\u001b[1mRows: \u001b[22m\u001b[34m785932\u001b[39m \u001b[1mColumns: \u001b[22m\u001b[34m13\u001b[39m\n",
      "\u001b[36m──\u001b[39m \u001b[1mColumn specification\u001b[22m \u001b[36m────────────────────────────────────────────────────────\u001b[39m\n",
      "\u001b[1mDelimiter:\u001b[22m \",\"\n",
      "\u001b[31mchr\u001b[39m  (7): ride_id, rideable_type, start_station_name, start_station_id, end_...\n",
      "\u001b[32mdbl\u001b[39m  (4): start_lat, start_lng, end_lat, end_lng\n",
      "\u001b[34mdttm\u001b[39m (2): started_at, ended_at\n",
      "\n",
      "\u001b[36mℹ\u001b[39m Use `spec()` to retrieve the full column specification for this data.\n",
      "\u001b[36mℹ\u001b[39m Specify the column types or set `show_col_types = FALSE` to quiet this message.\n",
      "\u001b[1mRows: \u001b[22m\u001b[34m701339\u001b[39m \u001b[1mColumns: \u001b[22m\u001b[34m13\u001b[39m\n",
      "\u001b[36m──\u001b[39m \u001b[1mColumn specification\u001b[22m \u001b[36m────────────────────────────────────────────────────────\u001b[39m\n",
      "\u001b[1mDelimiter:\u001b[22m \",\"\n",
      "\u001b[31mchr\u001b[39m  (7): ride_id, rideable_type, start_station_name, start_station_id, end_...\n",
      "\u001b[32mdbl\u001b[39m  (4): start_lat, start_lng, end_lat, end_lng\n",
      "\u001b[34mdttm\u001b[39m (2): started_at, ended_at\n",
      "\n",
      "\u001b[36mℹ\u001b[39m Use `spec()` to retrieve the full column specification for this data.\n",
      "\u001b[36mℹ\u001b[39m Specify the column types or set `show_col_types = FALSE` to quiet this message.\n",
      "\u001b[1mRows: \u001b[22m\u001b[34m558685\u001b[39m \u001b[1mColumns: \u001b[22m\u001b[34m13\u001b[39m\n",
      "\u001b[36m──\u001b[39m \u001b[1mColumn specification\u001b[22m \u001b[36m────────────────────────────────────────────────────────\u001b[39m\n",
      "\u001b[1mDelimiter:\u001b[22m \",\"\n",
      "\u001b[31mchr\u001b[39m  (7): ride_id, rideable_type, start_station_name, start_station_id, end_...\n",
      "\u001b[32mdbl\u001b[39m  (4): start_lat, start_lng, end_lat, end_lng\n",
      "\u001b[34mdttm\u001b[39m (2): started_at, ended_at\n",
      "\n",
      "\u001b[36mℹ\u001b[39m Use `spec()` to retrieve the full column specification for this data.\n",
      "\u001b[36mℹ\u001b[39m Specify the column types or set `show_col_types = FALSE` to quiet this message.\n",
      "\u001b[1mRows: \u001b[22m\u001b[34m337735\u001b[39m \u001b[1mColumns: \u001b[22m\u001b[34m13\u001b[39m\n",
      "\u001b[36m──\u001b[39m \u001b[1mColumn specification\u001b[22m \u001b[36m────────────────────────────────────────────────────────\u001b[39m\n",
      "\u001b[1mDelimiter:\u001b[22m \",\"\n",
      "\u001b[31mchr\u001b[39m  (7): ride_id, rideable_type, start_station_name, start_station_id, end_...\n",
      "\u001b[32mdbl\u001b[39m  (4): start_lat, start_lng, end_lat, end_lng\n",
      "\u001b[34mdttm\u001b[39m (2): started_at, ended_at\n",
      "\n",
      "\u001b[36mℹ\u001b[39m Use `spec()` to retrieve the full column specification for this data.\n",
      "\u001b[36mℹ\u001b[39m Specify the column types or set `show_col_types = FALSE` to quiet this message.\n",
      "\u001b[1mRows: \u001b[22m\u001b[34m181806\u001b[39m \u001b[1mColumns: \u001b[22m\u001b[34m13\u001b[39m\n",
      "\u001b[36m──\u001b[39m \u001b[1mColumn specification\u001b[22m \u001b[36m────────────────────────────────────────────────────────\u001b[39m\n",
      "\u001b[1mDelimiter:\u001b[22m \",\"\n",
      "\u001b[31mchr\u001b[39m  (7): ride_id, rideable_type, start_station_name, start_station_id, end_...\n",
      "\u001b[32mdbl\u001b[39m  (4): start_lat, start_lng, end_lat, end_lng\n",
      "\u001b[34mdttm\u001b[39m (2): started_at, ended_at\n",
      "\n",
      "\u001b[36mℹ\u001b[39m Use `spec()` to retrieve the full column specification for this data.\n",
      "\u001b[36mℹ\u001b[39m Specify the column types or set `show_col_types = FALSE` to quiet this message.\n"
     ]
    }
   ],
   "source": [
    "#Reading in all of our data\n",
    "#Only works when working directory is the ../input/bike-share... folder\n",
    "df <-\n",
    "  list.files(path = \"/kaggle/input/bike-share-trip-data\", pattern = \"*.csv\") %>% \n",
    "  map_df(~read_csv(.))"
   ]
  },
  {
   "cell_type": "markdown",
   "id": "1734c344",
   "metadata": {
    "papermill": {
     "duration": 0.016214,
     "end_time": "2023-09-23T01:51:51.169021",
     "exception": false,
     "start_time": "2023-09-23T01:51:51.152807",
     "status": "completed"
    },
    "tags": []
   },
   "source": [
    "You may notice that we have to switch directories a few times. This is a draw back to the function above. It saved us time but we need to be wary of our working directory."
   ]
  },
  {
   "cell_type": "code",
   "execution_count": 3,
   "id": "33543943",
   "metadata": {
    "execution": {
     "iopub.execute_input": "2023-09-23T01:51:51.204807Z",
     "iopub.status.busy": "2023-09-23T01:51:51.202949Z",
     "iopub.status.idle": "2023-09-23T01:51:51.262813Z",
     "shell.execute_reply": "2023-09-23T01:51:51.260626Z"
    },
    "papermill": {
     "duration": 0.08126,
     "end_time": "2023-09-23T01:51:51.266128",
     "exception": false,
     "start_time": "2023-09-23T01:51:51.184868",
     "status": "completed"
    },
    "tags": []
   },
   "outputs": [
    {
     "data": {
      "text/html": [
       "<table class=\"dataframe\">\n",
       "<caption>A tibble: 6 × 13</caption>\n",
       "<thead>\n",
       "\t<tr><th scope=col>ride_id</th><th scope=col>rideable_type</th><th scope=col>started_at</th><th scope=col>ended_at</th><th scope=col>start_station_name</th><th scope=col>start_station_id</th><th scope=col>end_station_name</th><th scope=col>end_station_id</th><th scope=col>start_lat</th><th scope=col>start_lng</th><th scope=col>end_lat</th><th scope=col>end_lng</th><th scope=col>member_casual</th></tr>\n",
       "\t<tr><th scope=col>&lt;chr&gt;</th><th scope=col>&lt;chr&gt;</th><th scope=col>&lt;dttm&gt;</th><th scope=col>&lt;dttm&gt;</th><th scope=col>&lt;chr&gt;</th><th scope=col>&lt;chr&gt;</th><th scope=col>&lt;chr&gt;</th><th scope=col>&lt;chr&gt;</th><th scope=col>&lt;dbl&gt;</th><th scope=col>&lt;dbl&gt;</th><th scope=col>&lt;dbl&gt;</th><th scope=col>&lt;dbl&gt;</th><th scope=col>&lt;chr&gt;</th></tr>\n",
       "</thead>\n",
       "<tbody>\n",
       "\t<tr><td>C2F7DD78E82EC875</td><td>electric_bike</td><td>2022-01-13 11:59:47</td><td>2022-01-13 12:02:44</td><td><span style=white-space:pre-wrap>Glenwood Ave &amp; Touhy Ave     </span></td><td><span style=white-space:pre-wrap>525         </span></td><td><span style=white-space:pre-wrap>Clark St &amp; Touhy Ave         </span></td><td><span style=white-space:pre-wrap>RP-007      </span></td><td>42.01280</td><td>-87.66591</td><td>42.01256</td><td>-87.67437</td><td>casual</td></tr>\n",
       "\t<tr><td>A6CF8980A652D272</td><td>electric_bike</td><td>2022-01-10 08:41:56</td><td>2022-01-10 08:46:17</td><td><span style=white-space:pre-wrap>Glenwood Ave &amp; Touhy Ave     </span></td><td><span style=white-space:pre-wrap>525         </span></td><td><span style=white-space:pre-wrap>Clark St &amp; Touhy Ave         </span></td><td><span style=white-space:pre-wrap>RP-007      </span></td><td>42.01276</td><td>-87.66597</td><td>42.01256</td><td>-87.67437</td><td>casual</td></tr>\n",
       "\t<tr><td>BD0F91DFF741C66D</td><td>classic_bike </td><td>2022-01-25 04:53:40</td><td>2022-01-25 04:58:01</td><td>Sheffield Ave &amp; Fullerton Ave</td><td>TA1306000016</td><td>Greenview Ave &amp; Fullerton Ave</td><td>TA1307000001</td><td>41.92560</td><td>-87.65371</td><td>41.92533</td><td>-87.66580</td><td>member</td></tr>\n",
       "\t<tr><td>CBB80ED419105406</td><td>classic_bike </td><td>2022-01-04 00:18:04</td><td>2022-01-04 00:33:00</td><td><span style=white-space:pre-wrap>Clark St &amp; Bryn Mawr Ave     </span></td><td>KA1504000151</td><td><span style=white-space:pre-wrap>Paulina St &amp; Montrose Ave    </span></td><td>TA1309000021</td><td>41.98359</td><td>-87.66915</td><td>41.96151</td><td>-87.67139</td><td>casual</td></tr>\n",
       "\t<tr><td>DDC963BFDDA51EEA</td><td>classic_bike </td><td>2022-01-20 01:31:10</td><td>2022-01-20 01:37:12</td><td><span style=white-space:pre-wrap>Michigan Ave &amp; Jackson Blvd  </span></td><td>TA1309000002</td><td><span style=white-space:pre-wrap>State St &amp; Randolph St       </span></td><td>TA1305000029</td><td>41.87785</td><td>-87.62408</td><td>41.88462</td><td>-87.62783</td><td>member</td></tr>\n",
       "\t<tr><td>A39C6F6CC0586C0B</td><td>classic_bike </td><td>2022-01-11 18:48:09</td><td>2022-01-11 18:51:31</td><td><span style=white-space:pre-wrap>Wood St &amp; Chicago Ave        </span></td><td><span style=white-space:pre-wrap>637         </span></td><td><span style=white-space:pre-wrap>Honore St &amp; Division St      </span></td><td>TA1305000034</td><td>41.89563</td><td>-87.67207</td><td>41.90312</td><td>-87.67394</td><td>member</td></tr>\n",
       "</tbody>\n",
       "</table>\n"
      ],
      "text/latex": [
       "A tibble: 6 × 13\n",
       "\\begin{tabular}{lllllllllllll}\n",
       " ride\\_id & rideable\\_type & started\\_at & ended\\_at & start\\_station\\_name & start\\_station\\_id & end\\_station\\_name & end\\_station\\_id & start\\_lat & start\\_lng & end\\_lat & end\\_lng & member\\_casual\\\\\n",
       " <chr> & <chr> & <dttm> & <dttm> & <chr> & <chr> & <chr> & <chr> & <dbl> & <dbl> & <dbl> & <dbl> & <chr>\\\\\n",
       "\\hline\n",
       "\t C2F7DD78E82EC875 & electric\\_bike & 2022-01-13 11:59:47 & 2022-01-13 12:02:44 & Glenwood Ave \\& Touhy Ave      & 525          & Clark St \\& Touhy Ave          & RP-007       & 42.01280 & -87.66591 & 42.01256 & -87.67437 & casual\\\\\n",
       "\t A6CF8980A652D272 & electric\\_bike & 2022-01-10 08:41:56 & 2022-01-10 08:46:17 & Glenwood Ave \\& Touhy Ave      & 525          & Clark St \\& Touhy Ave          & RP-007       & 42.01276 & -87.66597 & 42.01256 & -87.67437 & casual\\\\\n",
       "\t BD0F91DFF741C66D & classic\\_bike  & 2022-01-25 04:53:40 & 2022-01-25 04:58:01 & Sheffield Ave \\& Fullerton Ave & TA1306000016 & Greenview Ave \\& Fullerton Ave & TA1307000001 & 41.92560 & -87.65371 & 41.92533 & -87.66580 & member\\\\\n",
       "\t CBB80ED419105406 & classic\\_bike  & 2022-01-04 00:18:04 & 2022-01-04 00:33:00 & Clark St \\& Bryn Mawr Ave      & KA1504000151 & Paulina St \\& Montrose Ave     & TA1309000021 & 41.98359 & -87.66915 & 41.96151 & -87.67139 & casual\\\\\n",
       "\t DDC963BFDDA51EEA & classic\\_bike  & 2022-01-20 01:31:10 & 2022-01-20 01:37:12 & Michigan Ave \\& Jackson Blvd   & TA1309000002 & State St \\& Randolph St        & TA1305000029 & 41.87785 & -87.62408 & 41.88462 & -87.62783 & member\\\\\n",
       "\t A39C6F6CC0586C0B & classic\\_bike  & 2022-01-11 18:48:09 & 2022-01-11 18:51:31 & Wood St \\& Chicago Ave         & 637          & Honore St \\& Division St       & TA1305000034 & 41.89563 & -87.67207 & 41.90312 & -87.67394 & member\\\\\n",
       "\\end{tabular}\n"
      ],
      "text/markdown": [
       "\n",
       "A tibble: 6 × 13\n",
       "\n",
       "| ride_id &lt;chr&gt; | rideable_type &lt;chr&gt; | started_at &lt;dttm&gt; | ended_at &lt;dttm&gt; | start_station_name &lt;chr&gt; | start_station_id &lt;chr&gt; | end_station_name &lt;chr&gt; | end_station_id &lt;chr&gt; | start_lat &lt;dbl&gt; | start_lng &lt;dbl&gt; | end_lat &lt;dbl&gt; | end_lng &lt;dbl&gt; | member_casual &lt;chr&gt; |\n",
       "|---|---|---|---|---|---|---|---|---|---|---|---|---|\n",
       "| C2F7DD78E82EC875 | electric_bike | 2022-01-13 11:59:47 | 2022-01-13 12:02:44 | Glenwood Ave &amp; Touhy Ave      | 525          | Clark St &amp; Touhy Ave          | RP-007       | 42.01280 | -87.66591 | 42.01256 | -87.67437 | casual |\n",
       "| A6CF8980A652D272 | electric_bike | 2022-01-10 08:41:56 | 2022-01-10 08:46:17 | Glenwood Ave &amp; Touhy Ave      | 525          | Clark St &amp; Touhy Ave          | RP-007       | 42.01276 | -87.66597 | 42.01256 | -87.67437 | casual |\n",
       "| BD0F91DFF741C66D | classic_bike  | 2022-01-25 04:53:40 | 2022-01-25 04:58:01 | Sheffield Ave &amp; Fullerton Ave | TA1306000016 | Greenview Ave &amp; Fullerton Ave | TA1307000001 | 41.92560 | -87.65371 | 41.92533 | -87.66580 | member |\n",
       "| CBB80ED419105406 | classic_bike  | 2022-01-04 00:18:04 | 2022-01-04 00:33:00 | Clark St &amp; Bryn Mawr Ave      | KA1504000151 | Paulina St &amp; Montrose Ave     | TA1309000021 | 41.98359 | -87.66915 | 41.96151 | -87.67139 | casual |\n",
       "| DDC963BFDDA51EEA | classic_bike  | 2022-01-20 01:31:10 | 2022-01-20 01:37:12 | Michigan Ave &amp; Jackson Blvd   | TA1309000002 | State St &amp; Randolph St        | TA1305000029 | 41.87785 | -87.62408 | 41.88462 | -87.62783 | member |\n",
       "| A39C6F6CC0586C0B | classic_bike  | 2022-01-11 18:48:09 | 2022-01-11 18:51:31 | Wood St &amp; Chicago Ave         | 637          | Honore St &amp; Division St       | TA1305000034 | 41.89563 | -87.67207 | 41.90312 | -87.67394 | member |\n",
       "\n"
      ],
      "text/plain": [
       "  ride_id          rideable_type started_at          ended_at           \n",
       "1 C2F7DD78E82EC875 electric_bike 2022-01-13 11:59:47 2022-01-13 12:02:44\n",
       "2 A6CF8980A652D272 electric_bike 2022-01-10 08:41:56 2022-01-10 08:46:17\n",
       "3 BD0F91DFF741C66D classic_bike  2022-01-25 04:53:40 2022-01-25 04:58:01\n",
       "4 CBB80ED419105406 classic_bike  2022-01-04 00:18:04 2022-01-04 00:33:00\n",
       "5 DDC963BFDDA51EEA classic_bike  2022-01-20 01:31:10 2022-01-20 01:37:12\n",
       "6 A39C6F6CC0586C0B classic_bike  2022-01-11 18:48:09 2022-01-11 18:51:31\n",
       "  start_station_name            start_station_id end_station_name             \n",
       "1 Glenwood Ave & Touhy Ave      525              Clark St & Touhy Ave         \n",
       "2 Glenwood Ave & Touhy Ave      525              Clark St & Touhy Ave         \n",
       "3 Sheffield Ave & Fullerton Ave TA1306000016     Greenview Ave & Fullerton Ave\n",
       "4 Clark St & Bryn Mawr Ave      KA1504000151     Paulina St & Montrose Ave    \n",
       "5 Michigan Ave & Jackson Blvd   TA1309000002     State St & Randolph St       \n",
       "6 Wood St & Chicago Ave         637              Honore St & Division St      \n",
       "  end_station_id start_lat start_lng end_lat  end_lng   member_casual\n",
       "1 RP-007         42.01280  -87.66591 42.01256 -87.67437 casual       \n",
       "2 RP-007         42.01276  -87.66597 42.01256 -87.67437 casual       \n",
       "3 TA1307000001   41.92560  -87.65371 41.92533 -87.66580 member       \n",
       "4 TA1309000021   41.98359  -87.66915 41.96151 -87.67139 casual       \n",
       "5 TA1305000029   41.87785  -87.62408 41.88462 -87.62783 member       \n",
       "6 TA1305000034   41.89563  -87.67207 41.90312 -87.67394 member       "
      ]
     },
     "metadata": {},
     "output_type": "display_data"
    }
   ],
   "source": [
    "#Switching back to our initial directory\n",
    "head(df)\n",
    "setwd('/kaggle/working/')"
   ]
  },
  {
   "cell_type": "code",
   "execution_count": 4,
   "id": "602535e1",
   "metadata": {
    "execution": {
     "iopub.execute_input": "2023-09-23T01:51:51.303628Z",
     "iopub.status.busy": "2023-09-23T01:51:51.301738Z",
     "iopub.status.idle": "2023-09-23T01:51:56.250833Z",
     "shell.execute_reply": "2023-09-23T01:51:56.248178Z"
    },
    "papermill": {
     "duration": 4.971686,
     "end_time": "2023-09-23T01:51:56.253980",
     "exception": false,
     "start_time": "2023-09-23T01:51:51.282294",
     "status": "completed"
    },
    "tags": []
   },
   "outputs": [
    {
     "data": {
      "text/html": [
       "<table class=\"dataframe\">\n",
       "<caption>A tibble: 6 × 15</caption>\n",
       "<thead>\n",
       "\t<tr><th scope=col>ride_id</th><th scope=col>rideable_type</th><th scope=col>started_at</th><th scope=col>ended_at</th><th scope=col>start_station_name</th><th scope=col>start_station_id</th><th scope=col>end_station_name</th><th scope=col>end_station_id</th><th scope=col>start_lat</th><th scope=col>start_lng</th><th scope=col>end_lat</th><th scope=col>end_lng</th><th scope=col>member_casual</th><th scope=col>ride_length</th><th scope=col>day_of_week</th></tr>\n",
       "\t<tr><th scope=col>&lt;chr&gt;</th><th scope=col>&lt;chr&gt;</th><th scope=col>&lt;dttm&gt;</th><th scope=col>&lt;dttm&gt;</th><th scope=col>&lt;chr&gt;</th><th scope=col>&lt;chr&gt;</th><th scope=col>&lt;chr&gt;</th><th scope=col>&lt;chr&gt;</th><th scope=col>&lt;dbl&gt;</th><th scope=col>&lt;dbl&gt;</th><th scope=col>&lt;dbl&gt;</th><th scope=col>&lt;dbl&gt;</th><th scope=col>&lt;chr&gt;</th><th scope=col>&lt;drtn&gt;</th><th scope=col>&lt;chr&gt;</th></tr>\n",
       "</thead>\n",
       "<tbody>\n",
       "\t<tr><td>C2F7DD78E82EC875</td><td>electric_bike</td><td>2022-01-13 11:59:47</td><td>2022-01-13 12:02:44</td><td><span style=white-space:pre-wrap>Glenwood Ave &amp; Touhy Ave     </span></td><td><span style=white-space:pre-wrap>525         </span></td><td><span style=white-space:pre-wrap>Clark St &amp; Touhy Ave         </span></td><td><span style=white-space:pre-wrap>RP-007      </span></td><td>42.01280</td><td>-87.66591</td><td>42.01256</td><td>-87.67437</td><td>casual</td><td> 2.95 mins</td><td>Thursday</td></tr>\n",
       "\t<tr><td>A6CF8980A652D272</td><td>electric_bike</td><td>2022-01-10 08:41:56</td><td>2022-01-10 08:46:17</td><td><span style=white-space:pre-wrap>Glenwood Ave &amp; Touhy Ave     </span></td><td><span style=white-space:pre-wrap>525         </span></td><td><span style=white-space:pre-wrap>Clark St &amp; Touhy Ave         </span></td><td><span style=white-space:pre-wrap>RP-007      </span></td><td>42.01276</td><td>-87.66597</td><td>42.01256</td><td>-87.67437</td><td>casual</td><td> 4.35 mins</td><td><span style=white-space:pre-wrap>Monday  </span></td></tr>\n",
       "\t<tr><td>BD0F91DFF741C66D</td><td>classic_bike </td><td>2022-01-25 04:53:40</td><td>2022-01-25 04:58:01</td><td>Sheffield Ave &amp; Fullerton Ave</td><td>TA1306000016</td><td>Greenview Ave &amp; Fullerton Ave</td><td>TA1307000001</td><td>41.92560</td><td>-87.65371</td><td>41.92533</td><td>-87.66580</td><td>member</td><td> 4.35 mins</td><td>Tuesday </td></tr>\n",
       "\t<tr><td>CBB80ED419105406</td><td>classic_bike </td><td>2022-01-04 00:18:04</td><td>2022-01-04 00:33:00</td><td><span style=white-space:pre-wrap>Clark St &amp; Bryn Mawr Ave     </span></td><td>KA1504000151</td><td><span style=white-space:pre-wrap>Paulina St &amp; Montrose Ave    </span></td><td>TA1309000021</td><td>41.98359</td><td>-87.66915</td><td>41.96151</td><td>-87.67139</td><td>casual</td><td>14.93 mins</td><td>Tuesday </td></tr>\n",
       "\t<tr><td>DDC963BFDDA51EEA</td><td>classic_bike </td><td>2022-01-20 01:31:10</td><td>2022-01-20 01:37:12</td><td><span style=white-space:pre-wrap>Michigan Ave &amp; Jackson Blvd  </span></td><td>TA1309000002</td><td><span style=white-space:pre-wrap>State St &amp; Randolph St       </span></td><td>TA1305000029</td><td>41.87785</td><td>-87.62408</td><td>41.88462</td><td>-87.62783</td><td>member</td><td> 6.03 mins</td><td>Thursday</td></tr>\n",
       "\t<tr><td>A39C6F6CC0586C0B</td><td>classic_bike </td><td>2022-01-11 18:48:09</td><td>2022-01-11 18:51:31</td><td><span style=white-space:pre-wrap>Wood St &amp; Chicago Ave        </span></td><td><span style=white-space:pre-wrap>637         </span></td><td><span style=white-space:pre-wrap>Honore St &amp; Division St      </span></td><td>TA1305000034</td><td>41.89563</td><td>-87.67207</td><td>41.90312</td><td>-87.67394</td><td>member</td><td> 3.37 mins</td><td>Tuesday </td></tr>\n",
       "</tbody>\n",
       "</table>\n"
      ],
      "text/latex": [
       "A tibble: 6 × 15\n",
       "\\begin{tabular}{lllllllllllllll}\n",
       " ride\\_id & rideable\\_type & started\\_at & ended\\_at & start\\_station\\_name & start\\_station\\_id & end\\_station\\_name & end\\_station\\_id & start\\_lat & start\\_lng & end\\_lat & end\\_lng & member\\_casual & ride\\_length & day\\_of\\_week\\\\\n",
       " <chr> & <chr> & <dttm> & <dttm> & <chr> & <chr> & <chr> & <chr> & <dbl> & <dbl> & <dbl> & <dbl> & <chr> & <drtn> & <chr>\\\\\n",
       "\\hline\n",
       "\t C2F7DD78E82EC875 & electric\\_bike & 2022-01-13 11:59:47 & 2022-01-13 12:02:44 & Glenwood Ave \\& Touhy Ave      & 525          & Clark St \\& Touhy Ave          & RP-007       & 42.01280 & -87.66591 & 42.01256 & -87.67437 & casual &  2.95 mins & Thursday\\\\\n",
       "\t A6CF8980A652D272 & electric\\_bike & 2022-01-10 08:41:56 & 2022-01-10 08:46:17 & Glenwood Ave \\& Touhy Ave      & 525          & Clark St \\& Touhy Ave          & RP-007       & 42.01276 & -87.66597 & 42.01256 & -87.67437 & casual &  4.35 mins & Monday  \\\\\n",
       "\t BD0F91DFF741C66D & classic\\_bike  & 2022-01-25 04:53:40 & 2022-01-25 04:58:01 & Sheffield Ave \\& Fullerton Ave & TA1306000016 & Greenview Ave \\& Fullerton Ave & TA1307000001 & 41.92560 & -87.65371 & 41.92533 & -87.66580 & member &  4.35 mins & Tuesday \\\\\n",
       "\t CBB80ED419105406 & classic\\_bike  & 2022-01-04 00:18:04 & 2022-01-04 00:33:00 & Clark St \\& Bryn Mawr Ave      & KA1504000151 & Paulina St \\& Montrose Ave     & TA1309000021 & 41.98359 & -87.66915 & 41.96151 & -87.67139 & casual & 14.93 mins & Tuesday \\\\\n",
       "\t DDC963BFDDA51EEA & classic\\_bike  & 2022-01-20 01:31:10 & 2022-01-20 01:37:12 & Michigan Ave \\& Jackson Blvd   & TA1309000002 & State St \\& Randolph St        & TA1305000029 & 41.87785 & -87.62408 & 41.88462 & -87.62783 & member &  6.03 mins & Thursday\\\\\n",
       "\t A39C6F6CC0586C0B & classic\\_bike  & 2022-01-11 18:48:09 & 2022-01-11 18:51:31 & Wood St \\& Chicago Ave         & 637          & Honore St \\& Division St       & TA1305000034 & 41.89563 & -87.67207 & 41.90312 & -87.67394 & member &  3.37 mins & Tuesday \\\\\n",
       "\\end{tabular}\n"
      ],
      "text/markdown": [
       "\n",
       "A tibble: 6 × 15\n",
       "\n",
       "| ride_id &lt;chr&gt; | rideable_type &lt;chr&gt; | started_at &lt;dttm&gt; | ended_at &lt;dttm&gt; | start_station_name &lt;chr&gt; | start_station_id &lt;chr&gt; | end_station_name &lt;chr&gt; | end_station_id &lt;chr&gt; | start_lat &lt;dbl&gt; | start_lng &lt;dbl&gt; | end_lat &lt;dbl&gt; | end_lng &lt;dbl&gt; | member_casual &lt;chr&gt; | ride_length &lt;drtn&gt; | day_of_week &lt;chr&gt; |\n",
       "|---|---|---|---|---|---|---|---|---|---|---|---|---|---|---|\n",
       "| C2F7DD78E82EC875 | electric_bike | 2022-01-13 11:59:47 | 2022-01-13 12:02:44 | Glenwood Ave &amp; Touhy Ave      | 525          | Clark St &amp; Touhy Ave          | RP-007       | 42.01280 | -87.66591 | 42.01256 | -87.67437 | casual |  2.95 mins | Thursday |\n",
       "| A6CF8980A652D272 | electric_bike | 2022-01-10 08:41:56 | 2022-01-10 08:46:17 | Glenwood Ave &amp; Touhy Ave      | 525          | Clark St &amp; Touhy Ave          | RP-007       | 42.01276 | -87.66597 | 42.01256 | -87.67437 | casual |  4.35 mins | Monday   |\n",
       "| BD0F91DFF741C66D | classic_bike  | 2022-01-25 04:53:40 | 2022-01-25 04:58:01 | Sheffield Ave &amp; Fullerton Ave | TA1306000016 | Greenview Ave &amp; Fullerton Ave | TA1307000001 | 41.92560 | -87.65371 | 41.92533 | -87.66580 | member |  4.35 mins | Tuesday  |\n",
       "| CBB80ED419105406 | classic_bike  | 2022-01-04 00:18:04 | 2022-01-04 00:33:00 | Clark St &amp; Bryn Mawr Ave      | KA1504000151 | Paulina St &amp; Montrose Ave     | TA1309000021 | 41.98359 | -87.66915 | 41.96151 | -87.67139 | casual | 14.93 mins | Tuesday  |\n",
       "| DDC963BFDDA51EEA | classic_bike  | 2022-01-20 01:31:10 | 2022-01-20 01:37:12 | Michigan Ave &amp; Jackson Blvd   | TA1309000002 | State St &amp; Randolph St        | TA1305000029 | 41.87785 | -87.62408 | 41.88462 | -87.62783 | member |  6.03 mins | Thursday |\n",
       "| A39C6F6CC0586C0B | classic_bike  | 2022-01-11 18:48:09 | 2022-01-11 18:51:31 | Wood St &amp; Chicago Ave         | 637          | Honore St &amp; Division St       | TA1305000034 | 41.89563 | -87.67207 | 41.90312 | -87.67394 | member |  3.37 mins | Tuesday  |\n",
       "\n"
      ],
      "text/plain": [
       "  ride_id          rideable_type started_at          ended_at           \n",
       "1 C2F7DD78E82EC875 electric_bike 2022-01-13 11:59:47 2022-01-13 12:02:44\n",
       "2 A6CF8980A652D272 electric_bike 2022-01-10 08:41:56 2022-01-10 08:46:17\n",
       "3 BD0F91DFF741C66D classic_bike  2022-01-25 04:53:40 2022-01-25 04:58:01\n",
       "4 CBB80ED419105406 classic_bike  2022-01-04 00:18:04 2022-01-04 00:33:00\n",
       "5 DDC963BFDDA51EEA classic_bike  2022-01-20 01:31:10 2022-01-20 01:37:12\n",
       "6 A39C6F6CC0586C0B classic_bike  2022-01-11 18:48:09 2022-01-11 18:51:31\n",
       "  start_station_name            start_station_id end_station_name             \n",
       "1 Glenwood Ave & Touhy Ave      525              Clark St & Touhy Ave         \n",
       "2 Glenwood Ave & Touhy Ave      525              Clark St & Touhy Ave         \n",
       "3 Sheffield Ave & Fullerton Ave TA1306000016     Greenview Ave & Fullerton Ave\n",
       "4 Clark St & Bryn Mawr Ave      KA1504000151     Paulina St & Montrose Ave    \n",
       "5 Michigan Ave & Jackson Blvd   TA1309000002     State St & Randolph St       \n",
       "6 Wood St & Chicago Ave         637              Honore St & Division St      \n",
       "  end_station_id start_lat start_lng end_lat  end_lng   member_casual\n",
       "1 RP-007         42.01280  -87.66591 42.01256 -87.67437 casual       \n",
       "2 RP-007         42.01276  -87.66597 42.01256 -87.67437 casual       \n",
       "3 TA1307000001   41.92560  -87.65371 41.92533 -87.66580 member       \n",
       "4 TA1309000021   41.98359  -87.66915 41.96151 -87.67139 casual       \n",
       "5 TA1305000029   41.87785  -87.62408 41.88462 -87.62783 member       \n",
       "6 TA1305000034   41.89563  -87.67207 41.90312 -87.67394 member       \n",
       "  ride_length day_of_week\n",
       "1  2.95 mins  Thursday   \n",
       "2  4.35 mins  Monday     \n",
       "3  4.35 mins  Tuesday    \n",
       "4 14.93 mins  Tuesday    \n",
       "5  6.03 mins  Thursday   \n",
       "6  3.37 mins  Tuesday    "
      ]
     },
     "metadata": {},
     "output_type": "display_data"
    }
   ],
   "source": [
    "#Adding length of trip and day of week it took place to our data frame\n",
    "day_week <- weekdays(as.Date(df$started_at))\n",
    "df2 = df %>%\n",
    "mutate(ride_length = round(difftime(ended_at, started_at, units = \"min\"),2),day_of_week = day_week)\n",
    "head(df2)"
   ]
  },
  {
   "cell_type": "code",
   "execution_count": 5,
   "id": "98dbee47",
   "metadata": {
    "execution": {
     "iopub.execute_input": "2023-09-23T01:51:56.291420Z",
     "iopub.status.busy": "2023-09-23T01:51:56.289566Z",
     "iopub.status.idle": "2023-09-23T01:51:57.151806Z",
     "shell.execute_reply": "2023-09-23T01:51:57.149565Z"
    },
    "papermill": {
     "duration": 0.883855,
     "end_time": "2023-09-23T01:51:57.154405",
     "exception": false,
     "start_time": "2023-09-23T01:51:56.270550",
     "status": "completed"
    },
    "tags": []
   },
   "outputs": [
    {
     "data": {
      "text/html": [
       "<table class=\"dataframe\">\n",
       "<caption>A tibble: 2 × 2</caption>\n",
       "<thead>\n",
       "\t<tr><th scope=col>member_casual</th><th scope=col>n</th></tr>\n",
       "\t<tr><th scope=col>&lt;chr&gt;</th><th scope=col>&lt;int&gt;</th></tr>\n",
       "</thead>\n",
       "<tbody>\n",
       "\t<tr><td>casual</td><td>2322032</td></tr>\n",
       "\t<tr><td>member</td><td>3345685</td></tr>\n",
       "</tbody>\n",
       "</table>\n"
      ],
      "text/latex": [
       "A tibble: 2 × 2\n",
       "\\begin{tabular}{ll}\n",
       " member\\_casual & n\\\\\n",
       " <chr> & <int>\\\\\n",
       "\\hline\n",
       "\t casual & 2322032\\\\\n",
       "\t member & 3345685\\\\\n",
       "\\end{tabular}\n"
      ],
      "text/markdown": [
       "\n",
       "A tibble: 2 × 2\n",
       "\n",
       "| member_casual &lt;chr&gt; | n &lt;int&gt; |\n",
       "|---|---|\n",
       "| casual | 2322032 |\n",
       "| member | 3345685 |\n",
       "\n"
      ],
      "text/plain": [
       "  member_casual n      \n",
       "1 casual        2322032\n",
       "2 member        3345685"
      ]
     },
     "metadata": {},
     "output_type": "display_data"
    },
    {
     "name": "stdout",
     "output_type": "stream",
     "text": [
      "0  NAs inside of ride_id \n",
      "0  NAs inside of rideable_type \n",
      "0  NAs inside of started_at \n",
      "0  NAs inside of ended_at \n",
      "833064  NAs inside of start_station_name \n",
      "833064  NAs inside of start_station_id \n",
      "892742  NAs inside of end_station_name \n",
      "892742  NAs inside of end_station_id \n",
      "0  NAs inside of start_lat \n",
      "0  NAs inside of start_lng \n",
      "5858  NAs inside of end_lat \n",
      "5858  NAs inside of end_lng \n",
      "0  NAs inside of member_casual \n",
      "0  NAs inside of ride_length \n",
      "0  NAs inside of day_of_week \n"
     ]
    }
   ],
   "source": [
    "#Counting membership holders\n",
    "df2 %>%\n",
    "count(member_casual)\n",
    "#Checking for NA values\n",
    "test <- as.character(unlist(strsplit(colnames(df2), split=\" \")))\n",
    "for (i in test){\n",
    "    cat(sum(is.na(df2[[i]])),\" NAs inside of\",i,\"\\n\")\n",
    "}"
   ]
  },
  {
   "cell_type": "markdown",
   "id": "ed2c0816",
   "metadata": {
    "papermill": {
     "duration": 0.016728,
     "end_time": "2023-09-23T01:51:57.187827",
     "exception": false,
     "start_time": "2023-09-23T01:51:57.171099",
     "status": "completed"
    },
    "tags": []
   },
   "source": [
    "# Summarizing our data\n",
    "* In our data exploration we find that we attain significant outliers in ride length. \n",
    "* Without accounting for outliers, our most common riding day is saturday and the average ride lasts for about 20 minutes for both member holders and casual riders."
   ]
  },
  {
   "cell_type": "code",
   "execution_count": 6,
   "id": "a2e38e98",
   "metadata": {
    "execution": {
     "iopub.execute_input": "2023-09-23T01:51:57.225332Z",
     "iopub.status.busy": "2023-09-23T01:51:57.223681Z",
     "iopub.status.idle": "2023-09-23T01:51:57.855487Z",
     "shell.execute_reply": "2023-09-23T01:51:57.853020Z"
    },
    "papermill": {
     "duration": 0.654456,
     "end_time": "2023-09-23T01:51:57.859061",
     "exception": false,
     "start_time": "2023-09-23T01:51:57.204605",
     "status": "completed"
    },
    "tags": []
   },
   "outputs": [
    {
     "data": {
      "text/html": [
       "<table class=\"dataframe\">\n",
       "<caption>A tibble: 7 × 2</caption>\n",
       "<thead>\n",
       "\t<tr><th scope=col>day_of_week</th><th scope=col>frequency</th></tr>\n",
       "\t<tr><th scope=col>&lt;chr&gt;</th><th scope=col>&lt;int&gt;</th></tr>\n",
       "</thead>\n",
       "<tbody>\n",
       "\t<tr><td>Friday   </td><td>801787</td></tr>\n",
       "\t<tr><td>Monday   </td><td>751014</td></tr>\n",
       "\t<tr><td>Saturday </td><td>916471</td></tr>\n",
       "\t<tr><td>Sunday   </td><td>776259</td></tr>\n",
       "\t<tr><td>Thursday </td><td>841591</td></tr>\n",
       "\t<tr><td>Tuesday  </td><td>782372</td></tr>\n",
       "\t<tr><td>Wednesday</td><td>798223</td></tr>\n",
       "</tbody>\n",
       "</table>\n"
      ],
      "text/latex": [
       "A tibble: 7 × 2\n",
       "\\begin{tabular}{ll}\n",
       " day\\_of\\_week & frequency\\\\\n",
       " <chr> & <int>\\\\\n",
       "\\hline\n",
       "\t Friday    & 801787\\\\\n",
       "\t Monday    & 751014\\\\\n",
       "\t Saturday  & 916471\\\\\n",
       "\t Sunday    & 776259\\\\\n",
       "\t Thursday  & 841591\\\\\n",
       "\t Tuesday   & 782372\\\\\n",
       "\t Wednesday & 798223\\\\\n",
       "\\end{tabular}\n"
      ],
      "text/markdown": [
       "\n",
       "A tibble: 7 × 2\n",
       "\n",
       "| day_of_week &lt;chr&gt; | frequency &lt;int&gt; |\n",
       "|---|---|\n",
       "| Friday    | 801787 |\n",
       "| Monday    | 751014 |\n",
       "| Saturday  | 916471 |\n",
       "| Sunday    | 776259 |\n",
       "| Thursday  | 841591 |\n",
       "| Tuesday   | 782372 |\n",
       "| Wednesday | 798223 |\n",
       "\n"
      ],
      "text/plain": [
       "  day_of_week frequency\n",
       "1 Friday      801787   \n",
       "2 Monday      751014   \n",
       "3 Saturday    916471   \n",
       "4 Sunday      776259   \n",
       "5 Thursday    841591   \n",
       "6 Tuesday     782372   \n",
       "7 Wednesday   798223   "
      ]
     },
     "metadata": {},
     "output_type": "display_data"
    },
    {
     "data": {
      "text/html": [
       "<table class=\"dataframe\">\n",
       "<caption>A tibble: 1 × 4</caption>\n",
       "<thead>\n",
       "\t<tr><th scope=col>avg_ride_len</th><th scope=col>min_ride_len</th><th scope=col>max_ride_len</th><th scope=col>mode_day_week</th></tr>\n",
       "\t<tr><th scope=col>&lt;drtn&gt;</th><th scope=col>&lt;drtn&gt;</th><th scope=col>&lt;drtn&gt;</th><th scope=col>&lt;chr&gt;</th></tr>\n",
       "</thead>\n",
       "<tbody>\n",
       "\t<tr><td>19.44328 mins</td><td>-10353.35 mins</td><td>41387.25 mins</td><td>Saturday</td></tr>\n",
       "</tbody>\n",
       "</table>\n"
      ],
      "text/latex": [
       "A tibble: 1 × 4\n",
       "\\begin{tabular}{llll}\n",
       " avg\\_ride\\_len & min\\_ride\\_len & max\\_ride\\_len & mode\\_day\\_week\\\\\n",
       " <drtn> & <drtn> & <drtn> & <chr>\\\\\n",
       "\\hline\n",
       "\t 19.44328 mins & -10353.35 mins & 41387.25 mins & Saturday\\\\\n",
       "\\end{tabular}\n"
      ],
      "text/markdown": [
       "\n",
       "A tibble: 1 × 4\n",
       "\n",
       "| avg_ride_len &lt;drtn&gt; | min_ride_len &lt;drtn&gt; | max_ride_len &lt;drtn&gt; | mode_day_week &lt;chr&gt; |\n",
       "|---|---|---|---|\n",
       "| 19.44328 mins | -10353.35 mins | 41387.25 mins | Saturday |\n",
       "\n"
      ],
      "text/plain": [
       "  avg_ride_len  min_ride_len   max_ride_len  mode_day_week\n",
       "1 19.44328 mins -10353.35 mins 41387.25 mins Saturday     "
      ]
     },
     "metadata": {},
     "output_type": "display_data"
    }
   ],
   "source": [
    "#Tallying all days of the week\n",
    "tallied <- df2 %>% \n",
    "    group_by(day_of_week) %>% \n",
    "    summarize(frequency = n()) %>% \n",
    "    ungroup()\n",
    "#Mode of all days of the week\n",
    "mode_day_week <- tallied %>%\n",
    "    filter(frequency == max(frequency)) %>%\n",
    "    summarize(mode_day_week = day_of_week)\n",
    "#summarizing our data\n",
    "summary_of_df2 <- df2 %>%\n",
    "    summarize(avg_ride_len = mean(ride_length), min_ride_len = min(ride_length), max_ride_len = max(ride_length)) %>%\n",
    "    mutate(mode_day_week)\n",
    "tallied\n",
    "summary_of_df2"
   ]
  },
  {
   "cell_type": "markdown",
   "id": "347d9d2e",
   "metadata": {
    "papermill": {
     "duration": 0.017923,
     "end_time": "2023-09-23T01:51:57.894446",
     "exception": false,
     "start_time": "2023-09-23T01:51:57.876523",
     "status": "completed"
    },
    "tags": []
   },
   "source": [
    "Here we have our first outlier, min and max ride length are both way too out of a realistic range. Seeing that we are assuming that our rides are lasting for a single day, there is no way we can have a rider using one of our bikes for 41,000 + minutes. This can be attributed to a number of things, for now lets leave this for further investigation."
   ]
  },
  {
   "cell_type": "code",
   "execution_count": 7,
   "id": "e2e919e7",
   "metadata": {
    "execution": {
     "iopub.execute_input": "2023-09-23T01:51:57.933560Z",
     "iopub.status.busy": "2023-09-23T01:51:57.931903Z",
     "iopub.status.idle": "2023-09-23T01:52:13.109761Z",
     "shell.execute_reply": "2023-09-23T01:52:13.107826Z"
    },
    "papermill": {
     "duration": 15.200083,
     "end_time": "2023-09-23T01:52:13.112344",
     "exception": false,
     "start_time": "2023-09-23T01:51:57.912261",
     "status": "completed"
    },
    "tags": []
   },
   "outputs": [
    {
     "data": {
      "image/png": "[encoded data removed]"
     },
     "metadata": {
      "image/png": {
       "height": 420,
       "width": 420
      }
     },
     "output_type": "display_data"
    }
   ],
   "source": [
    "ggplot(data = df2,aes(x=day_of_week,fill=member_casual)) + geom_bar(position = position_dodge()) + theme(legend.position = \"top\")"
   ]
  },
  {
   "cell_type": "code",
   "execution_count": 8,
   "id": "1ff46fb2",
   "metadata": {
    "execution": {
     "iopub.execute_input": "2023-09-23T01:52:13.152941Z",
     "iopub.status.busy": "2023-09-23T01:52:13.151068Z",
     "iopub.status.idle": "2023-09-23T01:52:13.307997Z",
     "shell.execute_reply": "2023-09-23T01:52:13.305782Z"
    },
    "papermill": {
     "duration": 0.180314,
     "end_time": "2023-09-23T01:52:13.311063",
     "exception": false,
     "start_time": "2023-09-23T01:52:13.130749",
     "status": "completed"
    },
    "tags": []
   },
   "outputs": [
    {
     "data": {
      "text/html": [
       "<table class=\"dataframe\">\n",
       "<caption>A tibble: 7 × 2</caption>\n",
       "<thead>\n",
       "\t<tr><th scope=col>day_of_week</th><th scope=col>count_of_day</th></tr>\n",
       "\t<tr><th scope=col>&lt;chr&gt;</th><th scope=col>&lt;int&gt;</th></tr>\n",
       "</thead>\n",
       "<tbody>\n",
       "\t<tr><td>Saturday </td><td>916471</td></tr>\n",
       "\t<tr><td>Thursday </td><td>841591</td></tr>\n",
       "\t<tr><td>Friday   </td><td>801787</td></tr>\n",
       "\t<tr><td>Wednesday</td><td>798223</td></tr>\n",
       "\t<tr><td>Tuesday  </td><td>782372</td></tr>\n",
       "\t<tr><td>Sunday   </td><td>776259</td></tr>\n",
       "\t<tr><td>Monday   </td><td>751014</td></tr>\n",
       "</tbody>\n",
       "</table>\n"
      ],
      "text/latex": [
       "A tibble: 7 × 2\n",
       "\\begin{tabular}{ll}\n",
       " day\\_of\\_week & count\\_of\\_day\\\\\n",
       " <chr> & <int>\\\\\n",
       "\\hline\n",
       "\t Saturday  & 916471\\\\\n",
       "\t Thursday  & 841591\\\\\n",
       "\t Friday    & 801787\\\\\n",
       "\t Wednesday & 798223\\\\\n",
       "\t Tuesday   & 782372\\\\\n",
       "\t Sunday    & 776259\\\\\n",
       "\t Monday    & 751014\\\\\n",
       "\\end{tabular}\n"
      ],
      "text/markdown": [
       "\n",
       "A tibble: 7 × 2\n",
       "\n",
       "| day_of_week &lt;chr&gt; | count_of_day &lt;int&gt; |\n",
       "|---|---|\n",
       "| Saturday  | 916471 |\n",
       "| Thursday  | 841591 |\n",
       "| Friday    | 801787 |\n",
       "| Wednesday | 798223 |\n",
       "| Tuesday   | 782372 |\n",
       "| Sunday    | 776259 |\n",
       "| Monday    | 751014 |\n",
       "\n"
      ],
      "text/plain": [
       "  day_of_week count_of_day\n",
       "1 Saturday    916471      \n",
       "2 Thursday    841591      \n",
       "3 Friday      801787      \n",
       "4 Wednesday   798223      \n",
       "5 Tuesday     782372      \n",
       "6 Sunday      776259      \n",
       "7 Monday      751014      "
      ]
     },
     "metadata": {},
     "output_type": "display_data"
    }
   ],
   "source": [
    "df2 %>%\n",
    "    group_by(day_of_week) %>%\n",
    "    summarize(count_of_day = n())%>%\n",
    "    arrange(-count_of_day)"
   ]
  },
  {
   "cell_type": "markdown",
   "id": "d84701fa",
   "metadata": {
    "papermill": {
     "duration": 0.018068,
     "end_time": "2023-09-23T01:52:13.347744",
     "exception": false,
     "start_time": "2023-09-23T01:52:13.329676",
     "status": "completed"
    },
    "tags": []
   },
   "source": [
    "# Membership Holders vs Casual Riders\n",
    "Lets See How Membership Holders Differ from Casual Riders"
   ]
  },
  {
   "cell_type": "code",
   "execution_count": 9,
   "id": "a74dc00c",
   "metadata": {
    "execution": {
     "iopub.execute_input": "2023-09-23T01:52:13.388080Z",
     "iopub.status.busy": "2023-09-23T01:52:13.386235Z",
     "iopub.status.idle": "2023-09-23T01:52:15.590643Z",
     "shell.execute_reply": "2023-09-23T01:52:15.588708Z"
    },
    "papermill": {
     "duration": 2.227456,
     "end_time": "2023-09-23T01:52:15.593311",
     "exception": false,
     "start_time": "2023-09-23T01:52:13.365855",
     "status": "completed"
    },
    "tags": []
   },
   "outputs": [
    {
     "data": {
      "text/html": [
       "<table class=\"dataframe\">\n",
       "<caption>A tibble: 6 × 15</caption>\n",
       "<thead>\n",
       "\t<tr><th scope=col>ride_id</th><th scope=col>rideable_type</th><th scope=col>started_at</th><th scope=col>ended_at</th><th scope=col>start_station_name</th><th scope=col>start_station_id</th><th scope=col>end_station_name</th><th scope=col>end_station_id</th><th scope=col>start_lat</th><th scope=col>start_lng</th><th scope=col>end_lat</th><th scope=col>end_lng</th><th scope=col>member_casual</th><th scope=col>ride_length</th><th scope=col>day_of_week</th></tr>\n",
       "\t<tr><th scope=col>&lt;chr&gt;</th><th scope=col>&lt;chr&gt;</th><th scope=col>&lt;dttm&gt;</th><th scope=col>&lt;dttm&gt;</th><th scope=col>&lt;chr&gt;</th><th scope=col>&lt;chr&gt;</th><th scope=col>&lt;chr&gt;</th><th scope=col>&lt;chr&gt;</th><th scope=col>&lt;dbl&gt;</th><th scope=col>&lt;dbl&gt;</th><th scope=col>&lt;dbl&gt;</th><th scope=col>&lt;dbl&gt;</th><th scope=col>&lt;chr&gt;</th><th scope=col>&lt;drtn&gt;</th><th scope=col>&lt;chr&gt;</th></tr>\n",
       "</thead>\n",
       "<tbody>\n",
       "\t<tr><td>BD0F91DFF741C66D</td><td>classic_bike </td><td>2022-01-25 04:53:40</td><td>2022-01-25 04:58:01</td><td>Sheffield Ave &amp; Fullerton Ave</td><td>TA1306000016</td><td>Greenview Ave &amp; Fullerton Ave</td><td>TA1307000001</td><td>41.92560</td><td>-87.65371</td><td>41.92533</td><td>-87.66580</td><td>member</td><td> 4.35 mins</td><td>Tuesday </td></tr>\n",
       "\t<tr><td>DDC963BFDDA51EEA</td><td>classic_bike </td><td>2022-01-20 01:31:10</td><td>2022-01-20 01:37:12</td><td><span style=white-space:pre-wrap>Michigan Ave &amp; Jackson Blvd  </span></td><td>TA1309000002</td><td><span style=white-space:pre-wrap>State St &amp; Randolph St       </span></td><td>TA1305000029</td><td>41.87785</td><td>-87.62408</td><td>41.88462</td><td>-87.62783</td><td>member</td><td> 6.03 mins</td><td>Thursday</td></tr>\n",
       "\t<tr><td>A39C6F6CC0586C0B</td><td>classic_bike </td><td>2022-01-11 18:48:09</td><td>2022-01-11 18:51:31</td><td><span style=white-space:pre-wrap>Wood St &amp; Chicago Ave        </span></td><td><span style=white-space:pre-wrap>637         </span></td><td><span style=white-space:pre-wrap>Honore St &amp; Division St      </span></td><td>TA1305000034</td><td>41.89563</td><td>-87.67207</td><td>41.90312</td><td>-87.67394</td><td>member</td><td> 3.37 mins</td><td>Tuesday </td></tr>\n",
       "\t<tr><td>BDC4AB637EDF981B</td><td>classic_bike </td><td>2022-01-30 18:32:52</td><td>2022-01-30 18:49:26</td><td><span style=white-space:pre-wrap>Oakley Ave &amp; Irving Park Rd  </span></td><td>KA1504000158</td><td><span style=white-space:pre-wrap>Broadway &amp; Sheridan Rd       </span></td><td><span style=white-space:pre-wrap>13323       </span></td><td>41.95434</td><td>-87.68608</td><td>41.95283</td><td>-87.64999</td><td>member</td><td>16.57 mins</td><td><span style=white-space:pre-wrap>Sunday  </span></td></tr>\n",
       "\t<tr><td>81751A3186E59A6B</td><td>classic_bike </td><td>2022-01-22 12:20:02</td><td>2022-01-22 12:32:06</td><td>Sheffield Ave &amp; Fullerton Ave</td><td>TA1306000016</td><td><span style=white-space:pre-wrap>Damen Ave &amp; Clybourn Ave     </span></td><td><span style=white-space:pre-wrap>13271       </span></td><td>41.92560</td><td>-87.65371</td><td>41.93193</td><td>-87.67786</td><td>member</td><td>12.07 mins</td><td>Saturday</td></tr>\n",
       "\t<tr><td>154222B86A338ABD</td><td>electric_bike</td><td>2022-01-17 07:34:41</td><td>2022-01-17 08:00:08</td><td><span style=white-space:pre-wrap>Racine Ave &amp; 15th St         </span></td><td><span style=white-space:pre-wrap>13304       </span></td><td>Clinton St &amp; Washington Blvd </td><td><span style=white-space:pre-wrap>WL-012      </span></td><td>41.86125</td><td>-87.65650</td><td>41.88338</td><td>-87.64117</td><td>member</td><td>25.45 mins</td><td><span style=white-space:pre-wrap>Monday  </span></td></tr>\n",
       "</tbody>\n",
       "</table>\n"
      ],
      "text/latex": [
       "A tibble: 6 × 15\n",
       "\\begin{tabular}{lllllllllllllll}\n",
       " ride\\_id & rideable\\_type & started\\_at & ended\\_at & start\\_station\\_name & start\\_station\\_id & end\\_station\\_name & end\\_station\\_id & start\\_lat & start\\_lng & end\\_lat & end\\_lng & member\\_casual & ride\\_length & day\\_of\\_week\\\\\n",
       " <chr> & <chr> & <dttm> & <dttm> & <chr> & <chr> & <chr> & <chr> & <dbl> & <dbl> & <dbl> & <dbl> & <chr> & <drtn> & <chr>\\\\\n",
       "\\hline\n",
       "\t BD0F91DFF741C66D & classic\\_bike  & 2022-01-25 04:53:40 & 2022-01-25 04:58:01 & Sheffield Ave \\& Fullerton Ave & TA1306000016 & Greenview Ave \\& Fullerton Ave & TA1307000001 & 41.92560 & -87.65371 & 41.92533 & -87.66580 & member &  4.35 mins & Tuesday \\\\\n",
       "\t DDC963BFDDA51EEA & classic\\_bike  & 2022-01-20 01:31:10 & 2022-01-20 01:37:12 & Michigan Ave \\& Jackson Blvd   & TA1309000002 & State St \\& Randolph St        & TA1305000029 & 41.87785 & -87.62408 & 41.88462 & -87.62783 & member &  6.03 mins & Thursday\\\\\n",
       "\t A39C6F6CC0586C0B & classic\\_bike  & 2022-01-11 18:48:09 & 2022-01-11 18:51:31 & Wood St \\& Chicago Ave         & 637          & Honore St \\& Division St       & TA1305000034 & 41.89563 & -87.67207 & 41.90312 & -87.67394 & member &  3.37 mins & Tuesday \\\\\n",
       "\t BDC4AB637EDF981B & classic\\_bike  & 2022-01-30 18:32:52 & 2022-01-30 18:49:26 & Oakley Ave \\& Irving Park Rd   & KA1504000158 & Broadway \\& Sheridan Rd        & 13323        & 41.95434 & -87.68608 & 41.95283 & -87.64999 & member & 16.57 mins & Sunday  \\\\\n",
       "\t 81751A3186E59A6B & classic\\_bike  & 2022-01-22 12:20:02 & 2022-01-22 12:32:06 & Sheffield Ave \\& Fullerton Ave & TA1306000016 & Damen Ave \\& Clybourn Ave      & 13271        & 41.92560 & -87.65371 & 41.93193 & -87.67786 & member & 12.07 mins & Saturday\\\\\n",
       "\t 154222B86A338ABD & electric\\_bike & 2022-01-17 07:34:41 & 2022-01-17 08:00:08 & Racine Ave \\& 15th St          & 13304        & Clinton St \\& Washington Blvd  & WL-012       & 41.86125 & -87.65650 & 41.88338 & -87.64117 & member & 25.45 mins & Monday  \\\\\n",
       "\\end{tabular}\n"
      ],
      "text/markdown": [
       "\n",
       "A tibble: 6 × 15\n",
       "\n",
       "| ride_id &lt;chr&gt; | rideable_type &lt;chr&gt; | started_at &lt;dttm&gt; | ended_at &lt;dttm&gt; | start_station_name &lt;chr&gt; | start_station_id &lt;chr&gt; | end_station_name &lt;chr&gt; | end_station_id &lt;chr&gt; | start_lat &lt;dbl&gt; | start_lng &lt;dbl&gt; | end_lat &lt;dbl&gt; | end_lng &lt;dbl&gt; | member_casual &lt;chr&gt; | ride_length &lt;drtn&gt; | day_of_week &lt;chr&gt; |\n",
       "|---|---|---|---|---|---|---|---|---|---|---|---|---|---|---|\n",
       "| BD0F91DFF741C66D | classic_bike  | 2022-01-25 04:53:40 | 2022-01-25 04:58:01 | Sheffield Ave &amp; Fullerton Ave | TA1306000016 | Greenview Ave &amp; Fullerton Ave | TA1307000001 | 41.92560 | -87.65371 | 41.92533 | -87.66580 | member |  4.35 mins | Tuesday  |\n",
       "| DDC963BFDDA51EEA | classic_bike  | 2022-01-20 01:31:10 | 2022-01-20 01:37:12 | Michigan Ave &amp; Jackson Blvd   | TA1309000002 | State St &amp; Randolph St        | TA1305000029 | 41.87785 | -87.62408 | 41.88462 | -87.62783 | member |  6.03 mins | Thursday |\n",
       "| A39C6F6CC0586C0B | classic_bike  | 2022-01-11 18:48:09 | 2022-01-11 18:51:31 | Wood St &amp; Chicago Ave         | 637          | Honore St &amp; Division St       | TA1305000034 | 41.89563 | -87.67207 | 41.90312 | -87.67394 | member |  3.37 mins | Tuesday  |\n",
       "| BDC4AB637EDF981B | classic_bike  | 2022-01-30 18:32:52 | 2022-01-30 18:49:26 | Oakley Ave &amp; Irving Park Rd   | KA1504000158 | Broadway &amp; Sheridan Rd        | 13323        | 41.95434 | -87.68608 | 41.95283 | -87.64999 | member | 16.57 mins | Sunday   |\n",
       "| 81751A3186E59A6B | classic_bike  | 2022-01-22 12:20:02 | 2022-01-22 12:32:06 | Sheffield Ave &amp; Fullerton Ave | TA1306000016 | Damen Ave &amp; Clybourn Ave      | 13271        | 41.92560 | -87.65371 | 41.93193 | -87.67786 | member | 12.07 mins | Saturday |\n",
       "| 154222B86A338ABD | electric_bike | 2022-01-17 07:34:41 | 2022-01-17 08:00:08 | Racine Ave &amp; 15th St          | 13304        | Clinton St &amp; Washington Blvd  | WL-012       | 41.86125 | -87.65650 | 41.88338 | -87.64117 | member | 25.45 mins | Monday   |\n",
       "\n"
      ],
      "text/plain": [
       "  ride_id          rideable_type started_at          ended_at           \n",
       "1 BD0F91DFF741C66D classic_bike  2022-01-25 04:53:40 2022-01-25 04:58:01\n",
       "2 DDC963BFDDA51EEA classic_bike  2022-01-20 01:31:10 2022-01-20 01:37:12\n",
       "3 A39C6F6CC0586C0B classic_bike  2022-01-11 18:48:09 2022-01-11 18:51:31\n",
       "4 BDC4AB637EDF981B classic_bike  2022-01-30 18:32:52 2022-01-30 18:49:26\n",
       "5 81751A3186E59A6B classic_bike  2022-01-22 12:20:02 2022-01-22 12:32:06\n",
       "6 154222B86A338ABD electric_bike 2022-01-17 07:34:41 2022-01-17 08:00:08\n",
       "  start_station_name            start_station_id end_station_name             \n",
       "1 Sheffield Ave & Fullerton Ave TA1306000016     Greenview Ave & Fullerton Ave\n",
       "2 Michigan Ave & Jackson Blvd   TA1309000002     State St & Randolph St       \n",
       "3 Wood St & Chicago Ave         637              Honore St & Division St      \n",
       "4 Oakley Ave & Irving Park Rd   KA1504000158     Broadway & Sheridan Rd       \n",
       "5 Sheffield Ave & Fullerton Ave TA1306000016     Damen Ave & Clybourn Ave     \n",
       "6 Racine Ave & 15th St          13304            Clinton St & Washington Blvd \n",
       "  end_station_id start_lat start_lng end_lat  end_lng   member_casual\n",
       "1 TA1307000001   41.92560  -87.65371 41.92533 -87.66580 member       \n",
       "2 TA1305000029   41.87785  -87.62408 41.88462 -87.62783 member       \n",
       "3 TA1305000034   41.89563  -87.67207 41.90312 -87.67394 member       \n",
       "4 13323          41.95434  -87.68608 41.95283 -87.64999 member       \n",
       "5 13271          41.92560  -87.65371 41.93193 -87.67786 member       \n",
       "6 WL-012         41.86125  -87.65650 41.88338 -87.64117 member       \n",
       "  ride_length day_of_week\n",
       "1  4.35 mins  Tuesday    \n",
       "2  6.03 mins  Thursday   \n",
       "3  3.37 mins  Tuesday    \n",
       "4 16.57 mins  Sunday     \n",
       "5 12.07 mins  Saturday   \n",
       "6 25.45 mins  Monday     "
      ]
     },
     "metadata": {},
     "output_type": "display_data"
    },
    {
     "data": {
      "text/html": [
       "<table class=\"dataframe\">\n",
       "<caption>A tibble: 6 × 15</caption>\n",
       "<thead>\n",
       "\t<tr><th scope=col>ride_id</th><th scope=col>rideable_type</th><th scope=col>started_at</th><th scope=col>ended_at</th><th scope=col>start_station_name</th><th scope=col>start_station_id</th><th scope=col>end_station_name</th><th scope=col>end_station_id</th><th scope=col>start_lat</th><th scope=col>start_lng</th><th scope=col>end_lat</th><th scope=col>end_lng</th><th scope=col>member_casual</th><th scope=col>ride_length</th><th scope=col>day_of_week</th></tr>\n",
       "\t<tr><th scope=col>&lt;chr&gt;</th><th scope=col>&lt;chr&gt;</th><th scope=col>&lt;dttm&gt;</th><th scope=col>&lt;dttm&gt;</th><th scope=col>&lt;chr&gt;</th><th scope=col>&lt;chr&gt;</th><th scope=col>&lt;chr&gt;</th><th scope=col>&lt;chr&gt;</th><th scope=col>&lt;dbl&gt;</th><th scope=col>&lt;dbl&gt;</th><th scope=col>&lt;dbl&gt;</th><th scope=col>&lt;dbl&gt;</th><th scope=col>&lt;chr&gt;</th><th scope=col>&lt;drtn&gt;</th><th scope=col>&lt;chr&gt;</th></tr>\n",
       "</thead>\n",
       "<tbody>\n",
       "\t<tr><td>C2F7DD78E82EC875</td><td>electric_bike</td><td>2022-01-13 11:59:47</td><td>2022-01-13 12:02:44</td><td><span style=white-space:pre-wrap>Glenwood Ave &amp; Touhy Ave   </span></td><td><span style=white-space:pre-wrap>525         </span></td><td><span style=white-space:pre-wrap>Clark St &amp; Touhy Ave       </span></td><td><span style=white-space:pre-wrap>RP-007      </span></td><td>42.01280</td><td>-87.66591</td><td>42.01256</td><td>-87.67437</td><td>casual</td><td> 2.95 mins</td><td>Thursday</td></tr>\n",
       "\t<tr><td>A6CF8980A652D272</td><td>electric_bike</td><td>2022-01-10 08:41:56</td><td>2022-01-10 08:46:17</td><td><span style=white-space:pre-wrap>Glenwood Ave &amp; Touhy Ave   </span></td><td><span style=white-space:pre-wrap>525         </span></td><td><span style=white-space:pre-wrap>Clark St &amp; Touhy Ave       </span></td><td><span style=white-space:pre-wrap>RP-007      </span></td><td>42.01276</td><td>-87.66597</td><td>42.01256</td><td>-87.67437</td><td>casual</td><td> 4.35 mins</td><td><span style=white-space:pre-wrap>Monday  </span></td></tr>\n",
       "\t<tr><td>CBB80ED419105406</td><td>classic_bike </td><td>2022-01-04 00:18:04</td><td>2022-01-04 00:33:00</td><td><span style=white-space:pre-wrap>Clark St &amp; Bryn Mawr Ave   </span></td><td>KA1504000151</td><td><span style=white-space:pre-wrap>Paulina St &amp; Montrose Ave  </span></td><td>TA1309000021</td><td>41.98359</td><td>-87.66915</td><td>41.96151</td><td>-87.67139</td><td>casual</td><td>14.93 mins</td><td>Tuesday </td></tr>\n",
       "\t<tr><td>E119D4E6BF686601</td><td>electric_bike</td><td>2022-01-08 05:36:40</td><td>2022-01-08 05:46:40</td><td>Michigan Ave &amp; Jackson Blvd</td><td>TA1309000002</td><td><span style=white-space:pre-wrap>St. Clair St &amp; Erie St     </span></td><td><span style=white-space:pre-wrap>13016       </span></td><td>41.87785</td><td>-87.62406</td><td>41.89435</td><td>-87.62280</td><td>casual</td><td>10.00 mins</td><td>Saturday</td></tr>\n",
       "\t<tr><td>9D4AAF43A011FC59</td><td>electric_bike</td><td>2022-01-18 08:03:16</td><td>2022-01-18 08:08:00</td><td>California Ave &amp; Altgeld St</td><td><span style=white-space:pre-wrap>15646       </span></td><td>Milwaukee Ave &amp; Rockwell St</td><td><span style=white-space:pre-wrap>13242       </span></td><td>41.92665</td><td>-87.69766</td><td>41.92020</td><td>-87.69266</td><td>casual</td><td> 4.73 mins</td><td>Tuesday </td></tr>\n",
       "\t<tr><td>1C2362DAD4090D8A</td><td>electric_bike</td><td>2022-01-03 00:12:42</td><td>2022-01-03 00:17:50</td><td><span style=white-space:pre-wrap>Indiana Ave &amp; 31st St      </span></td><td>TA1308000036</td><td><span style=white-space:pre-wrap>Indiana Ave &amp; 40th St      </span></td><td><span style=white-space:pre-wrap>13083       </span></td><td>41.83882</td><td>-87.62183</td><td>41.82168</td><td>-87.62160</td><td>casual</td><td> 5.13 mins</td><td><span style=white-space:pre-wrap>Monday  </span></td></tr>\n",
       "</tbody>\n",
       "</table>\n"
      ],
      "text/latex": [
       "A tibble: 6 × 15\n",
       "\\begin{tabular}{lllllllllllllll}\n",
       " ride\\_id & rideable\\_type & started\\_at & ended\\_at & start\\_station\\_name & start\\_station\\_id & end\\_station\\_name & end\\_station\\_id & start\\_lat & start\\_lng & end\\_lat & end\\_lng & member\\_casual & ride\\_length & day\\_of\\_week\\\\\n",
       " <chr> & <chr> & <dttm> & <dttm> & <chr> & <chr> & <chr> & <chr> & <dbl> & <dbl> & <dbl> & <dbl> & <chr> & <drtn> & <chr>\\\\\n",
       "\\hline\n",
       "\t C2F7DD78E82EC875 & electric\\_bike & 2022-01-13 11:59:47 & 2022-01-13 12:02:44 & Glenwood Ave \\& Touhy Ave    & 525          & Clark St \\& Touhy Ave        & RP-007       & 42.01280 & -87.66591 & 42.01256 & -87.67437 & casual &  2.95 mins & Thursday\\\\\n",
       "\t A6CF8980A652D272 & electric\\_bike & 2022-01-10 08:41:56 & 2022-01-10 08:46:17 & Glenwood Ave \\& Touhy Ave    & 525          & Clark St \\& Touhy Ave        & RP-007       & 42.01276 & -87.66597 & 42.01256 & -87.67437 & casual &  4.35 mins & Monday  \\\\\n",
       "\t CBB80ED419105406 & classic\\_bike  & 2022-01-04 00:18:04 & 2022-01-04 00:33:00 & Clark St \\& Bryn Mawr Ave    & KA1504000151 & Paulina St \\& Montrose Ave   & TA1309000021 & 41.98359 & -87.66915 & 41.96151 & -87.67139 & casual & 14.93 mins & Tuesday \\\\\n",
       "\t E119D4E6BF686601 & electric\\_bike & 2022-01-08 05:36:40 & 2022-01-08 05:46:40 & Michigan Ave \\& Jackson Blvd & TA1309000002 & St. Clair St \\& Erie St      & 13016        & 41.87785 & -87.62406 & 41.89435 & -87.62280 & casual & 10.00 mins & Saturday\\\\\n",
       "\t 9D4AAF43A011FC59 & electric\\_bike & 2022-01-18 08:03:16 & 2022-01-18 08:08:00 & California Ave \\& Altgeld St & 15646        & Milwaukee Ave \\& Rockwell St & 13242        & 41.92665 & -87.69766 & 41.92020 & -87.69266 & casual &  4.73 mins & Tuesday \\\\\n",
       "\t 1C2362DAD4090D8A & electric\\_bike & 2022-01-03 00:12:42 & 2022-01-03 00:17:50 & Indiana Ave \\& 31st St       & TA1308000036 & Indiana Ave \\& 40th St       & 13083        & 41.83882 & -87.62183 & 41.82168 & -87.62160 & casual &  5.13 mins & Monday  \\\\\n",
       "\\end{tabular}\n"
      ],
      "text/markdown": [
       "\n",
       "A tibble: 6 × 15\n",
       "\n",
       "| ride_id &lt;chr&gt; | rideable_type &lt;chr&gt; | started_at &lt;dttm&gt; | ended_at &lt;dttm&gt; | start_station_name &lt;chr&gt; | start_station_id &lt;chr&gt; | end_station_name &lt;chr&gt; | end_station_id &lt;chr&gt; | start_lat &lt;dbl&gt; | start_lng &lt;dbl&gt; | end_lat &lt;dbl&gt; | end_lng &lt;dbl&gt; | member_casual &lt;chr&gt; | ride_length &lt;drtn&gt; | day_of_week &lt;chr&gt; |\n",
       "|---|---|---|---|---|---|---|---|---|---|---|---|---|---|---|\n",
       "| C2F7DD78E82EC875 | electric_bike | 2022-01-13 11:59:47 | 2022-01-13 12:02:44 | Glenwood Ave &amp; Touhy Ave    | 525          | Clark St &amp; Touhy Ave        | RP-007       | 42.01280 | -87.66591 | 42.01256 | -87.67437 | casual |  2.95 mins | Thursday |\n",
       "| A6CF8980A652D272 | electric_bike | 2022-01-10 08:41:56 | 2022-01-10 08:46:17 | Glenwood Ave &amp; Touhy Ave    | 525          | Clark St &amp; Touhy Ave        | RP-007       | 42.01276 | -87.66597 | 42.01256 | -87.67437 | casual |  4.35 mins | Monday   |\n",
       "| CBB80ED419105406 | classic_bike  | 2022-01-04 00:18:04 | 2022-01-04 00:33:00 | Clark St &amp; Bryn Mawr Ave    | KA1504000151 | Paulina St &amp; Montrose Ave   | TA1309000021 | 41.98359 | -87.66915 | 41.96151 | -87.67139 | casual | 14.93 mins | Tuesday  |\n",
       "| E119D4E6BF686601 | electric_bike | 2022-01-08 05:36:40 | 2022-01-08 05:46:40 | Michigan Ave &amp; Jackson Blvd | TA1309000002 | St. Clair St &amp; Erie St      | 13016        | 41.87785 | -87.62406 | 41.89435 | -87.62280 | casual | 10.00 mins | Saturday |\n",
       "| 9D4AAF43A011FC59 | electric_bike | 2022-01-18 08:03:16 | 2022-01-18 08:08:00 | California Ave &amp; Altgeld St | 15646        | Milwaukee Ave &amp; Rockwell St | 13242        | 41.92665 | -87.69766 | 41.92020 | -87.69266 | casual |  4.73 mins | Tuesday  |\n",
       "| 1C2362DAD4090D8A | electric_bike | 2022-01-03 00:12:42 | 2022-01-03 00:17:50 | Indiana Ave &amp; 31st St       | TA1308000036 | Indiana Ave &amp; 40th St       | 13083        | 41.83882 | -87.62183 | 41.82168 | -87.62160 | casual |  5.13 mins | Monday   |\n",
       "\n"
      ],
      "text/plain": [
       "  ride_id          rideable_type started_at          ended_at           \n",
       "1 C2F7DD78E82EC875 electric_bike 2022-01-13 11:59:47 2022-01-13 12:02:44\n",
       "2 A6CF8980A652D272 electric_bike 2022-01-10 08:41:56 2022-01-10 08:46:17\n",
       "3 CBB80ED419105406 classic_bike  2022-01-04 00:18:04 2022-01-04 00:33:00\n",
       "4 E119D4E6BF686601 electric_bike 2022-01-08 05:36:40 2022-01-08 05:46:40\n",
       "5 9D4AAF43A011FC59 electric_bike 2022-01-18 08:03:16 2022-01-18 08:08:00\n",
       "6 1C2362DAD4090D8A electric_bike 2022-01-03 00:12:42 2022-01-03 00:17:50\n",
       "  start_station_name          start_station_id end_station_name           \n",
       "1 Glenwood Ave & Touhy Ave    525              Clark St & Touhy Ave       \n",
       "2 Glenwood Ave & Touhy Ave    525              Clark St & Touhy Ave       \n",
       "3 Clark St & Bryn Mawr Ave    KA1504000151     Paulina St & Montrose Ave  \n",
       "4 Michigan Ave & Jackson Blvd TA1309000002     St. Clair St & Erie St     \n",
       "5 California Ave & Altgeld St 15646            Milwaukee Ave & Rockwell St\n",
       "6 Indiana Ave & 31st St       TA1308000036     Indiana Ave & 40th St      \n",
       "  end_station_id start_lat start_lng end_lat  end_lng   member_casual\n",
       "1 RP-007         42.01280  -87.66591 42.01256 -87.67437 casual       \n",
       "2 RP-007         42.01276  -87.66597 42.01256 -87.67437 casual       \n",
       "3 TA1309000021   41.98359  -87.66915 41.96151 -87.67139 casual       \n",
       "4 13016          41.87785  -87.62406 41.89435 -87.62280 casual       \n",
       "5 13242          41.92665  -87.69766 41.92020 -87.69266 casual       \n",
       "6 13083          41.83882  -87.62183 41.82168 -87.62160 casual       \n",
       "  ride_length day_of_week\n",
       "1  2.95 mins  Thursday   \n",
       "2  4.35 mins  Monday     \n",
       "3 14.93 mins  Tuesday    \n",
       "4 10.00 mins  Saturday   \n",
       "5  4.73 mins  Tuesday    \n",
       "6  5.13 mins  Monday     "
      ]
     },
     "metadata": {},
     "output_type": "display_data"
    }
   ],
   "source": [
    "membership_holders <- df2 %>%\n",
    "    filter(member_casual == \"member\")\n",
    "casual_riders <- df2 %>%\n",
    "    filter(member_casual == \"casual\")\n",
    "head(membership_holders)\n",
    "head(casual_riders)"
   ]
  },
  {
   "cell_type": "code",
   "execution_count": 10,
   "id": "ef26a134",
   "metadata": {
    "execution": {
     "iopub.execute_input": "2023-09-23T01:52:15.636996Z",
     "iopub.status.busy": "2023-09-23T01:52:15.635183Z",
     "iopub.status.idle": "2023-09-23T01:52:17.748763Z",
     "shell.execute_reply": "2023-09-23T01:52:17.746804Z"
    },
    "papermill": {
     "duration": 2.139244,
     "end_time": "2023-09-23T01:52:17.751987",
     "exception": false,
     "start_time": "2023-09-23T01:52:15.612743",
     "status": "completed"
    },
    "tags": []
   },
   "outputs": [
    {
     "data": {
      "text/html": [
       "<table class=\"dataframe\">\n",
       "<caption>A tibble: 7 × 3</caption>\n",
       "<thead>\n",
       "\t<tr><th scope=col>day_of_week</th><th scope=col>frequency</th><th scope=col>average_ride_len</th></tr>\n",
       "\t<tr><th scope=col>&lt;chr&gt;</th><th scope=col>&lt;int&gt;</th><th scope=col>&lt;drtn&gt;</th></tr>\n",
       "</thead>\n",
       "<tbody>\n",
       "\t<tr><td>Thursday </td><td>532261</td><td>12.29226 mins</td></tr>\n",
       "\t<tr><td>Wednesday</td><td>523869</td><td>12.08507 mins</td></tr>\n",
       "\t<tr><td>Tuesday  </td><td>518626</td><td>12.12874 mins</td></tr>\n",
       "\t<tr><td>Monday   </td><td>473339</td><td>12.27000 mins</td></tr>\n",
       "\t<tr><td>Friday   </td><td>467086</td><td>12.53068 mins</td></tr>\n",
       "\t<tr><td>Saturday </td><td>443281</td><td>14.13981 mins</td></tr>\n",
       "\t<tr><td>Sunday   </td><td>387223</td><td>14.02914 mins</td></tr>\n",
       "</tbody>\n",
       "</table>\n"
      ],
      "text/latex": [
       "A tibble: 7 × 3\n",
       "\\begin{tabular}{lll}\n",
       " day\\_of\\_week & frequency & average\\_ride\\_len\\\\\n",
       " <chr> & <int> & <drtn>\\\\\n",
       "\\hline\n",
       "\t Thursday  & 532261 & 12.29226 mins\\\\\n",
       "\t Wednesday & 523869 & 12.08507 mins\\\\\n",
       "\t Tuesday   & 518626 & 12.12874 mins\\\\\n",
       "\t Monday    & 473339 & 12.27000 mins\\\\\n",
       "\t Friday    & 467086 & 12.53068 mins\\\\\n",
       "\t Saturday  & 443281 & 14.13981 mins\\\\\n",
       "\t Sunday    & 387223 & 14.02914 mins\\\\\n",
       "\\end{tabular}\n"
      ],
      "text/markdown": [
       "\n",
       "A tibble: 7 × 3\n",
       "\n",
       "| day_of_week &lt;chr&gt; | frequency &lt;int&gt; | average_ride_len &lt;drtn&gt; |\n",
       "|---|---|---|\n",
       "| Thursday  | 532261 | 12.29226 mins |\n",
       "| Wednesday | 523869 | 12.08507 mins |\n",
       "| Tuesday   | 518626 | 12.12874 mins |\n",
       "| Monday    | 473339 | 12.27000 mins |\n",
       "| Friday    | 467086 | 12.53068 mins |\n",
       "| Saturday  | 443281 | 14.13981 mins |\n",
       "| Sunday    | 387223 | 14.02914 mins |\n",
       "\n"
      ],
      "text/plain": [
       "  day_of_week frequency average_ride_len\n",
       "1 Thursday    532261    12.29226 mins   \n",
       "2 Wednesday   523869    12.08507 mins   \n",
       "3 Tuesday     518626    12.12874 mins   \n",
       "4 Monday      473339    12.27000 mins   \n",
       "5 Friday      467086    12.53068 mins   \n",
       "6 Saturday    443281    14.13981 mins   \n",
       "7 Sunday      387223    14.02914 mins   "
      ]
     },
     "metadata": {},
     "output_type": "display_data"
    },
    {
     "data": {
      "text/html": [
       "<table class=\"dataframe\">\n",
       "<caption>A tibble: 1 × 4</caption>\n",
       "<thead>\n",
       "\t<tr><th scope=col>average_ride_length</th><th scope=col>max_ride_len</th><th scope=col>min_ride_len</th><th scope=col>mode_day_week</th></tr>\n",
       "\t<tr><th scope=col>&lt;drtn&gt;</th><th scope=col>&lt;drtn&gt;</th><th scope=col>&lt;drtn&gt;</th><th scope=col>&lt;chr&gt;</th></tr>\n",
       "</thead>\n",
       "<tbody>\n",
       "\t<tr><td>12.71042 mins</td><td>1559.9 mins</td><td>-10353.35 mins</td><td>Thursday</td></tr>\n",
       "</tbody>\n",
       "</table>\n"
      ],
      "text/latex": [
       "A tibble: 1 × 4\n",
       "\\begin{tabular}{llll}\n",
       " average\\_ride\\_length & max\\_ride\\_len & min\\_ride\\_len & mode\\_day\\_week\\\\\n",
       " <drtn> & <drtn> & <drtn> & <chr>\\\\\n",
       "\\hline\n",
       "\t 12.71042 mins & 1559.9 mins & -10353.35 mins & Thursday\\\\\n",
       "\\end{tabular}\n"
      ],
      "text/markdown": [
       "\n",
       "A tibble: 1 × 4\n",
       "\n",
       "| average_ride_length &lt;drtn&gt; | max_ride_len &lt;drtn&gt; | min_ride_len &lt;drtn&gt; | mode_day_week &lt;chr&gt; |\n",
       "|---|---|---|---|\n",
       "| 12.71042 mins | 1559.9 mins | -10353.35 mins | Thursday |\n",
       "\n"
      ],
      "text/plain": [
       "  average_ride_length max_ride_len min_ride_len   mode_day_week\n",
       "1 12.71042 mins       1559.9 mins  -10353.35 mins Thursday     "
      ]
     },
     "metadata": {},
     "output_type": "display_data"
    }
   ],
   "source": [
    "#Tallying all days of the week for members\n",
    "tallied_member_days <- membership_holders %>% group_by(day_of_week) %>% \n",
    "    summarize(frequency = n(), average_ride_len = mean(ride_length)) %>%\n",
    "    arrange(-frequency)%>%\n",
    "    ungroup()\n",
    "#Mode of all days of the week for members\n",
    "mode_day_member <- tallied_member_days %>%\n",
    "    filter(frequency == max(frequency)) %>%\n",
    "    summarize(mode_day_week = day_of_week)\n",
    "tallied_member_days\n",
    "membership_holders %>%\n",
    "    summarize(average_ride_length = mean(ride_length), max_ride_len = max(ride_length), min_ride_len = min(ride_length)) %>%\n",
    "    mutate(mode_day_member)"
   ]
  },
  {
   "cell_type": "code",
   "execution_count": 11,
   "id": "8ff5368a",
   "metadata": {
    "execution": {
     "iopub.execute_input": "2023-09-23T01:52:17.809691Z",
     "iopub.status.busy": "2023-09-23T01:52:17.806698Z",
     "iopub.status.idle": "2023-09-23T01:52:25.043446Z",
     "shell.execute_reply": "2023-09-23T01:52:25.040435Z"
    },
    "papermill": {
     "duration": 7.269056,
     "end_time": "2023-09-23T01:52:25.047277",
     "exception": false,
     "start_time": "2023-09-23T01:52:17.778221",
     "status": "completed"
    },
    "tags": []
   },
   "outputs": [
    {
     "data": {
      "image/png": "[encoded data removed]"
     },
     "metadata": {
      "image/png": {
       "height": 420,
       "width": 420
      }
     },
     "output_type": "display_data"
    }
   ],
   "source": [
    "ggplot(data = membership_holders) + geom_bar(mapping = aes(x=day_of_week,fill=member_casual)) + labs(title = \"Membership Holder's Favorite Days\")"
   ]
  },
  {
   "cell_type": "markdown",
   "id": "f845f78a",
   "metadata": {
    "papermill": {
     "duration": 0.020848,
     "end_time": "2023-09-23T01:52:25.088289",
     "exception": false,
     "start_time": "2023-09-23T01:52:25.067441",
     "status": "completed"
    },
    "tags": []
   },
   "source": [
    "Membership holders tend to ride every day with a preference for Tuesday Wednesday and Thursday."
   ]
  },
  {
   "cell_type": "code",
   "execution_count": 12,
   "id": "4868c49a",
   "metadata": {
    "execution": {
     "iopub.execute_input": "2023-09-23T01:52:25.133518Z",
     "iopub.status.busy": "2023-09-23T01:52:25.131715Z",
     "iopub.status.idle": "2023-09-23T01:52:26.109136Z",
     "shell.execute_reply": "2023-09-23T01:52:26.106620Z"
    },
    "papermill": {
     "duration": 1.003051,
     "end_time": "2023-09-23T01:52:26.112396",
     "exception": false,
     "start_time": "2023-09-23T01:52:25.109345",
     "status": "completed"
    },
    "tags": []
   },
   "outputs": [
    {
     "data": {
      "text/html": [
       "<table class=\"dataframe\">\n",
       "<caption>A tibble: 7 × 3</caption>\n",
       "<thead>\n",
       "\t<tr><th scope=col>day_of_week</th><th scope=col>frequency</th><th scope=col>average_ride_len</th></tr>\n",
       "\t<tr><th scope=col>&lt;chr&gt;</th><th scope=col>&lt;int&gt;</th><th scope=col>&lt;drtn&gt;</th></tr>\n",
       "</thead>\n",
       "<tbody>\n",
       "\t<tr><td>Saturday </td><td>463994</td><td>21.04444 mins</td></tr>\n",
       "\t<tr><td>Sunday   </td><td>380892</td><td>21.29919 mins</td></tr>\n",
       "\t<tr><td>Friday   </td><td>329830</td><td>17.86860 mins</td></tr>\n",
       "\t<tr><td>Thursday </td><td>305152</td><td>17.02070 mins</td></tr>\n",
       "\t<tr><td>Monday   </td><td>272699</td><td>19.17604 mins</td></tr>\n",
       "\t<tr><td>Wednesday</td><td>270892</td><td>16.57446 mins</td></tr>\n",
       "\t<tr><td>Tuesday  </td><td>259918</td><td>16.96846 mins</td></tr>\n",
       "</tbody>\n",
       "</table>\n"
      ],
      "text/latex": [
       "A tibble: 7 × 3\n",
       "\\begin{tabular}{lll}\n",
       " day\\_of\\_week & frequency & average\\_ride\\_len\\\\\n",
       " <chr> & <int> & <drtn>\\\\\n",
       "\\hline\n",
       "\t Saturday  & 463994 & 21.04444 mins\\\\\n",
       "\t Sunday    & 380892 & 21.29919 mins\\\\\n",
       "\t Friday    & 329830 & 17.86860 mins\\\\\n",
       "\t Thursday  & 305152 & 17.02070 mins\\\\\n",
       "\t Monday    & 272699 & 19.17604 mins\\\\\n",
       "\t Wednesday & 270892 & 16.57446 mins\\\\\n",
       "\t Tuesday   & 259918 & 16.96846 mins\\\\\n",
       "\\end{tabular}\n"
      ],
      "text/markdown": [
       "\n",
       "A tibble: 7 × 3\n",
       "\n",
       "| day_of_week &lt;chr&gt; | frequency &lt;int&gt; | average_ride_len &lt;drtn&gt; |\n",
       "|---|---|---|\n",
       "| Saturday  | 463994 | 21.04444 mins |\n",
       "| Sunday    | 380892 | 21.29919 mins |\n",
       "| Friday    | 329830 | 17.86860 mins |\n",
       "| Thursday  | 305152 | 17.02070 mins |\n",
       "| Monday    | 272699 | 19.17604 mins |\n",
       "| Wednesday | 270892 | 16.57446 mins |\n",
       "| Tuesday   | 259918 | 16.96846 mins |\n",
       "\n"
      ],
      "text/plain": [
       "  day_of_week frequency average_ride_len\n",
       "1 Saturday    463994    21.04444 mins   \n",
       "2 Sunday      380892    21.29919 mins   \n",
       "3 Friday      329830    17.86860 mins   \n",
       "4 Thursday    305152    17.02070 mins   \n",
       "5 Monday      272699    19.17604 mins   \n",
       "6 Wednesday   270892    16.57446 mins   \n",
       "7 Tuesday     259918    16.96846 mins   "
      ]
     },
     "metadata": {},
     "output_type": "display_data"
    },
    {
     "data": {
      "text/html": [
       "<table class=\"dataframe\">\n",
       "<caption>A tibble: 1 × 4</caption>\n",
       "<thead>\n",
       "\t<tr><th scope=col>average_ride_length</th><th scope=col>max_ride_len</th><th scope=col>min_ride_len</th><th scope=col>mode_day_week</th></tr>\n",
       "\t<tr><th scope=col>&lt;drtn&gt;</th><th scope=col>&lt;drtn&gt;</th><th scope=col>&lt;drtn&gt;</th><th scope=col>&lt;chr&gt;</th></tr>\n",
       "</thead>\n",
       "<tbody>\n",
       "\t<tr><td>29.14429 mins</td><td>41387.25 mins</td><td>-137.42 mins</td><td>Saturday</td></tr>\n",
       "</tbody>\n",
       "</table>\n"
      ],
      "text/latex": [
       "A tibble: 1 × 4\n",
       "\\begin{tabular}{llll}\n",
       " average\\_ride\\_length & max\\_ride\\_len & min\\_ride\\_len & mode\\_day\\_week\\\\\n",
       " <drtn> & <drtn> & <drtn> & <chr>\\\\\n",
       "\\hline\n",
       "\t 29.14429 mins & 41387.25 mins & -137.42 mins & Saturday\\\\\n",
       "\\end{tabular}\n"
      ],
      "text/markdown": [
       "\n",
       "A tibble: 1 × 4\n",
       "\n",
       "| average_ride_length &lt;drtn&gt; | max_ride_len &lt;drtn&gt; | min_ride_len &lt;drtn&gt; | mode_day_week &lt;chr&gt; |\n",
       "|---|---|---|---|\n",
       "| 29.14429 mins | 41387.25 mins | -137.42 mins | Saturday |\n",
       "\n"
      ],
      "text/plain": [
       "  average_ride_length max_ride_len  min_ride_len mode_day_week\n",
       "1 29.14429 mins       41387.25 mins -137.42 mins Saturday     "
      ]
     },
     "metadata": {},
     "output_type": "display_data"
    }
   ],
   "source": [
    "tallied_casual_days <- casual_riders %>% \n",
    "    group_by(day_of_week) %>% \n",
    "    filter(ride_length > 0 & ride_length < 120) %>%\n",
    "    summarize(frequency = n(), average_ride_len = mean(ride_length)) %>%\n",
    "    arrange(-frequency)%>%\n",
    "    ungroup()\n",
    "#Mode of all days of the week for members\n",
    "mode_day_casual <- tallied_casual_days %>%\n",
    "    filter(frequency == max(frequency)) %>%\n",
    "    summarize(mode_day_week = day_of_week)\n",
    "tallied_casual_days\n",
    "casual_riders %>%\n",
    "    summarize(average_ride_length = mean(ride_length), max_ride_len = max(ride_length), min_ride_len = min(ride_length)) %>%\n",
    "    mutate(mode_day_casual)"
   ]
  },
  {
   "cell_type": "code",
   "execution_count": 13,
   "id": "2e98eeb6",
   "metadata": {
    "execution": {
     "iopub.execute_input": "2023-09-23T01:52:26.157342Z",
     "iopub.status.busy": "2023-09-23T01:52:26.155566Z",
     "iopub.status.idle": "2023-09-23T01:52:31.215845Z",
     "shell.execute_reply": "2023-09-23T01:52:31.212841Z"
    },
    "papermill": {
     "duration": 5.086806,
     "end_time": "2023-09-23T01:52:31.219511",
     "exception": false,
     "start_time": "2023-09-23T01:52:26.132705",
     "status": "completed"
    },
    "tags": []
   },
   "outputs": [
    {
     "data": {
      "image/png": "[encoded data removed]"
     },
     "metadata": {
      "image/png": {
       "height": 420,
       "width": 420
      }
     },
     "output_type": "display_data"
    }
   ],
   "source": [
    "ggplot(data = casual_riders) + geom_bar(mapping = aes(x=day_of_week,fill=member_casual)) + labs(title = \"Casual Riders Favorite Days\")"
   ]
  },
  {
   "cell_type": "markdown",
   "id": "b26e9ece",
   "metadata": {
    "papermill": {
     "duration": 0.021232,
     "end_time": "2023-09-23T01:52:31.262442",
     "exception": false,
     "start_time": "2023-09-23T01:52:31.241210",
     "status": "completed"
    },
    "tags": []
   },
   "source": [
    "Casual Riders ride on the weekdays a lot less and tend to ride on Saturday and Sunday the most."
   ]
  },
  {
   "cell_type": "markdown",
   "id": "1bce31d5",
   "metadata": {
    "papermill": {
     "duration": 0.021311,
     "end_time": "2023-09-23T01:52:31.304980",
     "exception": false,
     "start_time": "2023-09-23T01:52:31.283669",
     "status": "completed"
    },
    "tags": []
   },
   "source": [
    "## Here we can see a side by side comparison of the two. Membership holders are using bikes much more frequently then casual riders with the only exception being *Saturday* & *Sunday*.\n",
    "* We might like to assume that Membership riders are making our bikes a part of their every day commutes while Casual riders are riding for fun every once in a while.\n",
    "* The reason we may make this assumption is both casual riders and membership holders riderhip seems to match up on sundays while ridership tapers off for casual riders again until the weekend hits."
   ]
  },
  {
   "cell_type": "code",
   "execution_count": 14,
   "id": "7b6f6e43",
   "metadata": {
    "execution": {
     "iopub.execute_input": "2023-09-23T01:52:31.353347Z",
     "iopub.status.busy": "2023-09-23T01:52:31.351537Z",
     "iopub.status.idle": "2023-09-23T01:52:44.286961Z",
     "shell.execute_reply": "2023-09-23T01:52:44.283962Z"
    },
    "papermill": {
     "duration": 12.963479,
     "end_time": "2023-09-23T01:52:44.290913",
     "exception": false,
     "start_time": "2023-09-23T01:52:31.327434",
     "status": "completed"
    },
    "tags": []
   },
   "outputs": [
    {
     "data": {
      "image/png": "[encoded data removed]"
     },
     "metadata": {
      "image/png": {
       "height": 420,
       "width": 420
      }
     },
     "output_type": "display_data"
    }
   ],
   "source": [
    "ggplot(data=df2, aes(x = day_of_week, fill = member_casual)) +\n",
    "  geom_bar(position = position_dodge()) +\n",
    "  labs(y = NULL) +\n",
    "  theme(legend.position = \"top\")"
   ]
  },
  {
   "cell_type": "markdown",
   "id": "4f5c32ec",
   "metadata": {
    "papermill": {
     "duration": 0.021622,
     "end_time": "2023-09-23T01:52:44.334336",
     "exception": false,
     "start_time": "2023-09-23T01:52:44.312714",
     "status": "completed"
    },
    "tags": []
   },
   "source": [
    "# Discrepencies in Ride Length\n",
    "One quick look at our ridership summaries from earlier reveal a strong difference in ride length between groups."
   ]
  },
  {
   "cell_type": "code",
   "execution_count": 15,
   "id": "5a508f48",
   "metadata": {
    "execution": {
     "iopub.execute_input": "2023-09-23T01:52:44.381725Z",
     "iopub.status.busy": "2023-09-23T01:52:44.379916Z",
     "iopub.status.idle": "2023-09-23T01:52:44.429266Z",
     "shell.execute_reply": "2023-09-23T01:52:44.426770Z"
    },
    "papermill": {
     "duration": 0.076441,
     "end_time": "2023-09-23T01:52:44.432492",
     "exception": false,
     "start_time": "2023-09-23T01:52:44.356051",
     "status": "completed"
    },
    "tags": []
   },
   "outputs": [
    {
     "data": {
      "text/html": [
       "<table class=\"dataframe\">\n",
       "<caption>A tibble: 7 × 3</caption>\n",
       "<thead>\n",
       "\t<tr><th scope=col>day_of_week</th><th scope=col>frequency</th><th scope=col>average_ride_len</th></tr>\n",
       "\t<tr><th scope=col>&lt;chr&gt;</th><th scope=col>&lt;int&gt;</th><th scope=col>&lt;drtn&gt;</th></tr>\n",
       "</thead>\n",
       "<tbody>\n",
       "\t<tr><td>Saturday </td><td>463994</td><td>21.04444 mins</td></tr>\n",
       "\t<tr><td>Sunday   </td><td>380892</td><td>21.29919 mins</td></tr>\n",
       "\t<tr><td>Friday   </td><td>329830</td><td>17.86860 mins</td></tr>\n",
       "\t<tr><td>Thursday </td><td>305152</td><td>17.02070 mins</td></tr>\n",
       "\t<tr><td>Monday   </td><td>272699</td><td>19.17604 mins</td></tr>\n",
       "\t<tr><td>Wednesday</td><td>270892</td><td>16.57446 mins</td></tr>\n",
       "\t<tr><td>Tuesday  </td><td>259918</td><td>16.96846 mins</td></tr>\n",
       "</tbody>\n",
       "</table>\n"
      ],
      "text/latex": [
       "A tibble: 7 × 3\n",
       "\\begin{tabular}{lll}\n",
       " day\\_of\\_week & frequency & average\\_ride\\_len\\\\\n",
       " <chr> & <int> & <drtn>\\\\\n",
       "\\hline\n",
       "\t Saturday  & 463994 & 21.04444 mins\\\\\n",
       "\t Sunday    & 380892 & 21.29919 mins\\\\\n",
       "\t Friday    & 329830 & 17.86860 mins\\\\\n",
       "\t Thursday  & 305152 & 17.02070 mins\\\\\n",
       "\t Monday    & 272699 & 19.17604 mins\\\\\n",
       "\t Wednesday & 270892 & 16.57446 mins\\\\\n",
       "\t Tuesday   & 259918 & 16.96846 mins\\\\\n",
       "\\end{tabular}\n"
      ],
      "text/markdown": [
       "\n",
       "A tibble: 7 × 3\n",
       "\n",
       "| day_of_week &lt;chr&gt; | frequency &lt;int&gt; | average_ride_len &lt;drtn&gt; |\n",
       "|---|---|---|\n",
       "| Saturday  | 463994 | 21.04444 mins |\n",
       "| Sunday    | 380892 | 21.29919 mins |\n",
       "| Friday    | 329830 | 17.86860 mins |\n",
       "| Thursday  | 305152 | 17.02070 mins |\n",
       "| Monday    | 272699 | 19.17604 mins |\n",
       "| Wednesday | 270892 | 16.57446 mins |\n",
       "| Tuesday   | 259918 | 16.96846 mins |\n",
       "\n"
      ],
      "text/plain": [
       "  day_of_week frequency average_ride_len\n",
       "1 Saturday    463994    21.04444 mins   \n",
       "2 Sunday      380892    21.29919 mins   \n",
       "3 Friday      329830    17.86860 mins   \n",
       "4 Thursday    305152    17.02070 mins   \n",
       "5 Monday      272699    19.17604 mins   \n",
       "6 Wednesday   270892    16.57446 mins   \n",
       "7 Tuesday     259918    16.96846 mins   "
      ]
     },
     "metadata": {},
     "output_type": "display_data"
    },
    {
     "data": {
      "text/html": [
       "<table class=\"dataframe\">\n",
       "<caption>A tibble: 7 × 3</caption>\n",
       "<thead>\n",
       "\t<tr><th scope=col>day_of_week</th><th scope=col>frequency</th><th scope=col>average_ride_len</th></tr>\n",
       "\t<tr><th scope=col>&lt;chr&gt;</th><th scope=col>&lt;int&gt;</th><th scope=col>&lt;drtn&gt;</th></tr>\n",
       "</thead>\n",
       "<tbody>\n",
       "\t<tr><td>Thursday </td><td>532261</td><td>12.29226 mins</td></tr>\n",
       "\t<tr><td>Wednesday</td><td>523869</td><td>12.08507 mins</td></tr>\n",
       "\t<tr><td>Tuesday  </td><td>518626</td><td>12.12874 mins</td></tr>\n",
       "\t<tr><td>Monday   </td><td>473339</td><td>12.27000 mins</td></tr>\n",
       "\t<tr><td>Friday   </td><td>467086</td><td>12.53068 mins</td></tr>\n",
       "\t<tr><td>Saturday </td><td>443281</td><td>14.13981 mins</td></tr>\n",
       "\t<tr><td>Sunday   </td><td>387223</td><td>14.02914 mins</td></tr>\n",
       "</tbody>\n",
       "</table>\n"
      ],
      "text/latex": [
       "A tibble: 7 × 3\n",
       "\\begin{tabular}{lll}\n",
       " day\\_of\\_week & frequency & average\\_ride\\_len\\\\\n",
       " <chr> & <int> & <drtn>\\\\\n",
       "\\hline\n",
       "\t Thursday  & 532261 & 12.29226 mins\\\\\n",
       "\t Wednesday & 523869 & 12.08507 mins\\\\\n",
       "\t Tuesday   & 518626 & 12.12874 mins\\\\\n",
       "\t Monday    & 473339 & 12.27000 mins\\\\\n",
       "\t Friday    & 467086 & 12.53068 mins\\\\\n",
       "\t Saturday  & 443281 & 14.13981 mins\\\\\n",
       "\t Sunday    & 387223 & 14.02914 mins\\\\\n",
       "\\end{tabular}\n"
      ],
      "text/markdown": [
       "\n",
       "A tibble: 7 × 3\n",
       "\n",
       "| day_of_week &lt;chr&gt; | frequency &lt;int&gt; | average_ride_len &lt;drtn&gt; |\n",
       "|---|---|---|\n",
       "| Thursday  | 532261 | 12.29226 mins |\n",
       "| Wednesday | 523869 | 12.08507 mins |\n",
       "| Tuesday   | 518626 | 12.12874 mins |\n",
       "| Monday    | 473339 | 12.27000 mins |\n",
       "| Friday    | 467086 | 12.53068 mins |\n",
       "| Saturday  | 443281 | 14.13981 mins |\n",
       "| Sunday    | 387223 | 14.02914 mins |\n",
       "\n"
      ],
      "text/plain": [
       "  day_of_week frequency average_ride_len\n",
       "1 Thursday    532261    12.29226 mins   \n",
       "2 Wednesday   523869    12.08507 mins   \n",
       "3 Tuesday     518626    12.12874 mins   \n",
       "4 Monday      473339    12.27000 mins   \n",
       "5 Friday      467086    12.53068 mins   \n",
       "6 Saturday    443281    14.13981 mins   \n",
       "7 Sunday      387223    14.02914 mins   "
      ]
     },
     "metadata": {},
     "output_type": "display_data"
    }
   ],
   "source": [
    "#Most common ride days for casual riders and members\n",
    "tallied_casual_days\n",
    "tallied_member_days"
   ]
  },
  {
   "cell_type": "markdown",
   "id": "ae4d6f29",
   "metadata": {
    "papermill": {
     "duration": 0.065532,
     "end_time": "2023-09-23T01:52:44.520363",
     "exception": false,
     "start_time": "2023-09-23T01:52:44.454831",
     "status": "completed"
    },
    "tags": []
   },
   "source": [
    "## However, our data is *terribly* skewed. We need to filter through a large amount of it before we can make inferences about ride length."
   ]
  },
  {
   "cell_type": "code",
   "execution_count": 16,
   "id": "d7a54fa7",
   "metadata": {
    "execution": {
     "iopub.execute_input": "2023-09-23T01:52:44.570911Z",
     "iopub.status.busy": "2023-09-23T01:52:44.569108Z",
     "iopub.status.idle": "2023-09-23T01:52:53.711107Z",
     "shell.execute_reply": "2023-09-23T01:52:53.708110Z"
    },
    "papermill": {
     "duration": 9.172645,
     "end_time": "2023-09-23T01:52:53.715898",
     "exception": false,
     "start_time": "2023-09-23T01:52:44.543253",
     "status": "completed"
    },
    "tags": []
   },
   "outputs": [
    {
     "data": {
      "image/png": "[encoded data removed]"
     },
     "metadata": {
      "image/png": {
       "height": 420,
       "width": 420
      }
     },
     "output_type": "display_data"
    }
   ],
   "source": [
    "ggplot(df2,aes(x=day_of_week,y=as.numeric(ride_length), fill=member_casual)) + geom_hex()"
   ]
  },
  {
   "cell_type": "markdown",
   "id": "11bd2bf7",
   "metadata": {
    "papermill": {
     "duration": 0.024717,
     "end_time": "2023-09-23T01:52:53.772611",
     "exception": false,
     "start_time": "2023-09-23T01:52:53.747894",
     "status": "completed"
    },
    "tags": []
   },
   "source": [
    "# Getting Rid of Unusual Outliers\n",
    "We don't know why there are trips in the thousands of minutes, for now we are going to look at a sample of the data where ride time doesn't exceed 2 hours. One thing we notice is that the majority of our outliers are casual members."
   ]
  },
  {
   "cell_type": "code",
   "execution_count": 17,
   "id": "4db4394c",
   "metadata": {
    "execution": {
     "iopub.execute_input": "2023-09-23T01:52:53.826292Z",
     "iopub.status.busy": "2023-09-23T01:52:53.824433Z",
     "iopub.status.idle": "2023-09-23T01:52:55.083964Z",
     "shell.execute_reply": "2023-09-23T01:52:55.081306Z"
    },
    "papermill": {
     "duration": 1.290059,
     "end_time": "2023-09-23T01:52:55.087459",
     "exception": false,
     "start_time": "2023-09-23T01:52:53.797400",
     "status": "completed"
    },
    "tags": []
   },
   "outputs": [
    {
     "data": {
      "text/html": [
       "<table class=\"dataframe\">\n",
       "<caption>A tibble: 6 × 15</caption>\n",
       "<thead>\n",
       "\t<tr><th scope=col>ride_id</th><th scope=col>rideable_type</th><th scope=col>started_at</th><th scope=col>ended_at</th><th scope=col>start_station_name</th><th scope=col>start_station_id</th><th scope=col>end_station_name</th><th scope=col>end_station_id</th><th scope=col>start_lat</th><th scope=col>start_lng</th><th scope=col>end_lat</th><th scope=col>end_lng</th><th scope=col>member_casual</th><th scope=col>ride_length</th><th scope=col>day_of_week</th></tr>\n",
       "\t<tr><th scope=col>&lt;chr&gt;</th><th scope=col>&lt;chr&gt;</th><th scope=col>&lt;dttm&gt;</th><th scope=col>&lt;dttm&gt;</th><th scope=col>&lt;chr&gt;</th><th scope=col>&lt;chr&gt;</th><th scope=col>&lt;chr&gt;</th><th scope=col>&lt;chr&gt;</th><th scope=col>&lt;dbl&gt;</th><th scope=col>&lt;dbl&gt;</th><th scope=col>&lt;dbl&gt;</th><th scope=col>&lt;dbl&gt;</th><th scope=col>&lt;chr&gt;</th><th scope=col>&lt;drtn&gt;</th><th scope=col>&lt;chr&gt;</th></tr>\n",
       "</thead>\n",
       "<tbody>\n",
       "\t<tr><td>C2F7DD78E82EC875</td><td>electric_bike</td><td>2022-01-13 11:59:47</td><td>2022-01-13 12:02:44</td><td><span style=white-space:pre-wrap>Glenwood Ave &amp; Touhy Ave     </span></td><td><span style=white-space:pre-wrap>525         </span></td><td><span style=white-space:pre-wrap>Clark St &amp; Touhy Ave         </span></td><td><span style=white-space:pre-wrap>RP-007      </span></td><td>42.01280</td><td>-87.66591</td><td>42.01256</td><td>-87.67437</td><td>casual</td><td> 2.95 mins</td><td>Thursday</td></tr>\n",
       "\t<tr><td>A6CF8980A652D272</td><td>electric_bike</td><td>2022-01-10 08:41:56</td><td>2022-01-10 08:46:17</td><td><span style=white-space:pre-wrap>Glenwood Ave &amp; Touhy Ave     </span></td><td><span style=white-space:pre-wrap>525         </span></td><td><span style=white-space:pre-wrap>Clark St &amp; Touhy Ave         </span></td><td><span style=white-space:pre-wrap>RP-007      </span></td><td>42.01276</td><td>-87.66597</td><td>42.01256</td><td>-87.67437</td><td>casual</td><td> 4.35 mins</td><td><span style=white-space:pre-wrap>Monday  </span></td></tr>\n",
       "\t<tr><td>BD0F91DFF741C66D</td><td>classic_bike </td><td>2022-01-25 04:53:40</td><td>2022-01-25 04:58:01</td><td>Sheffield Ave &amp; Fullerton Ave</td><td>TA1306000016</td><td>Greenview Ave &amp; Fullerton Ave</td><td>TA1307000001</td><td>41.92560</td><td>-87.65371</td><td>41.92533</td><td>-87.66580</td><td>member</td><td> 4.35 mins</td><td>Tuesday </td></tr>\n",
       "\t<tr><td>CBB80ED419105406</td><td>classic_bike </td><td>2022-01-04 00:18:04</td><td>2022-01-04 00:33:00</td><td><span style=white-space:pre-wrap>Clark St &amp; Bryn Mawr Ave     </span></td><td>KA1504000151</td><td><span style=white-space:pre-wrap>Paulina St &amp; Montrose Ave    </span></td><td>TA1309000021</td><td>41.98359</td><td>-87.66915</td><td>41.96151</td><td>-87.67139</td><td>casual</td><td>14.93 mins</td><td>Tuesday </td></tr>\n",
       "\t<tr><td>DDC963BFDDA51EEA</td><td>classic_bike </td><td>2022-01-20 01:31:10</td><td>2022-01-20 01:37:12</td><td><span style=white-space:pre-wrap>Michigan Ave &amp; Jackson Blvd  </span></td><td>TA1309000002</td><td><span style=white-space:pre-wrap>State St &amp; Randolph St       </span></td><td>TA1305000029</td><td>41.87785</td><td>-87.62408</td><td>41.88462</td><td>-87.62783</td><td>member</td><td> 6.03 mins</td><td>Thursday</td></tr>\n",
       "\t<tr><td>A39C6F6CC0586C0B</td><td>classic_bike </td><td>2022-01-11 18:48:09</td><td>2022-01-11 18:51:31</td><td><span style=white-space:pre-wrap>Wood St &amp; Chicago Ave        </span></td><td><span style=white-space:pre-wrap>637         </span></td><td><span style=white-space:pre-wrap>Honore St &amp; Division St      </span></td><td>TA1305000034</td><td>41.89563</td><td>-87.67207</td><td>41.90312</td><td>-87.67394</td><td>member</td><td> 3.37 mins</td><td>Tuesday </td></tr>\n",
       "</tbody>\n",
       "</table>\n"
      ],
      "text/latex": [
       "A tibble: 6 × 15\n",
       "\\begin{tabular}{lllllllllllllll}\n",
       " ride\\_id & rideable\\_type & started\\_at & ended\\_at & start\\_station\\_name & start\\_station\\_id & end\\_station\\_name & end\\_station\\_id & start\\_lat & start\\_lng & end\\_lat & end\\_lng & member\\_casual & ride\\_length & day\\_of\\_week\\\\\n",
       " <chr> & <chr> & <dttm> & <dttm> & <chr> & <chr> & <chr> & <chr> & <dbl> & <dbl> & <dbl> & <dbl> & <chr> & <drtn> & <chr>\\\\\n",
       "\\hline\n",
       "\t C2F7DD78E82EC875 & electric\\_bike & 2022-01-13 11:59:47 & 2022-01-13 12:02:44 & Glenwood Ave \\& Touhy Ave      & 525          & Clark St \\& Touhy Ave          & RP-007       & 42.01280 & -87.66591 & 42.01256 & -87.67437 & casual &  2.95 mins & Thursday\\\\\n",
       "\t A6CF8980A652D272 & electric\\_bike & 2022-01-10 08:41:56 & 2022-01-10 08:46:17 & Glenwood Ave \\& Touhy Ave      & 525          & Clark St \\& Touhy Ave          & RP-007       & 42.01276 & -87.66597 & 42.01256 & -87.67437 & casual &  4.35 mins & Monday  \\\\\n",
       "\t BD0F91DFF741C66D & classic\\_bike  & 2022-01-25 04:53:40 & 2022-01-25 04:58:01 & Sheffield Ave \\& Fullerton Ave & TA1306000016 & Greenview Ave \\& Fullerton Ave & TA1307000001 & 41.92560 & -87.65371 & 41.92533 & -87.66580 & member &  4.35 mins & Tuesday \\\\\n",
       "\t CBB80ED419105406 & classic\\_bike  & 2022-01-04 00:18:04 & 2022-01-04 00:33:00 & Clark St \\& Bryn Mawr Ave      & KA1504000151 & Paulina St \\& Montrose Ave     & TA1309000021 & 41.98359 & -87.66915 & 41.96151 & -87.67139 & casual & 14.93 mins & Tuesday \\\\\n",
       "\t DDC963BFDDA51EEA & classic\\_bike  & 2022-01-20 01:31:10 & 2022-01-20 01:37:12 & Michigan Ave \\& Jackson Blvd   & TA1309000002 & State St \\& Randolph St        & TA1305000029 & 41.87785 & -87.62408 & 41.88462 & -87.62783 & member &  6.03 mins & Thursday\\\\\n",
       "\t A39C6F6CC0586C0B & classic\\_bike  & 2022-01-11 18:48:09 & 2022-01-11 18:51:31 & Wood St \\& Chicago Ave         & 637          & Honore St \\& Division St       & TA1305000034 & 41.89563 & -87.67207 & 41.90312 & -87.67394 & member &  3.37 mins & Tuesday \\\\\n",
       "\\end{tabular}\n"
      ],
      "text/markdown": [
       "\n",
       "A tibble: 6 × 15\n",
       "\n",
       "| ride_id &lt;chr&gt; | rideable_type &lt;chr&gt; | started_at &lt;dttm&gt; | ended_at &lt;dttm&gt; | start_station_name &lt;chr&gt; | start_station_id &lt;chr&gt; | end_station_name &lt;chr&gt; | end_station_id &lt;chr&gt; | start_lat &lt;dbl&gt; | start_lng &lt;dbl&gt; | end_lat &lt;dbl&gt; | end_lng &lt;dbl&gt; | member_casual &lt;chr&gt; | ride_length &lt;drtn&gt; | day_of_week &lt;chr&gt; |\n",
       "|---|---|---|---|---|---|---|---|---|---|---|---|---|---|---|\n",
       "| C2F7DD78E82EC875 | electric_bike | 2022-01-13 11:59:47 | 2022-01-13 12:02:44 | Glenwood Ave &amp; Touhy Ave      | 525          | Clark St &amp; Touhy Ave          | RP-007       | 42.01280 | -87.66591 | 42.01256 | -87.67437 | casual |  2.95 mins | Thursday |\n",
       "| A6CF8980A652D272 | electric_bike | 2022-01-10 08:41:56 | 2022-01-10 08:46:17 | Glenwood Ave &amp; Touhy Ave      | 525          | Clark St &amp; Touhy Ave          | RP-007       | 42.01276 | -87.66597 | 42.01256 | -87.67437 | casual |  4.35 mins | Monday   |\n",
       "| BD0F91DFF741C66D | classic_bike  | 2022-01-25 04:53:40 | 2022-01-25 04:58:01 | Sheffield Ave &amp; Fullerton Ave | TA1306000016 | Greenview Ave &amp; Fullerton Ave | TA1307000001 | 41.92560 | -87.65371 | 41.92533 | -87.66580 | member |  4.35 mins | Tuesday  |\n",
       "| CBB80ED419105406 | classic_bike  | 2022-01-04 00:18:04 | 2022-01-04 00:33:00 | Clark St &amp; Bryn Mawr Ave      | KA1504000151 | Paulina St &amp; Montrose Ave     | TA1309000021 | 41.98359 | -87.66915 | 41.96151 | -87.67139 | casual | 14.93 mins | Tuesday  |\n",
       "| DDC963BFDDA51EEA | classic_bike  | 2022-01-20 01:31:10 | 2022-01-20 01:37:12 | Michigan Ave &amp; Jackson Blvd   | TA1309000002 | State St &amp; Randolph St        | TA1305000029 | 41.87785 | -87.62408 | 41.88462 | -87.62783 | member |  6.03 mins | Thursday |\n",
       "| A39C6F6CC0586C0B | classic_bike  | 2022-01-11 18:48:09 | 2022-01-11 18:51:31 | Wood St &amp; Chicago Ave         | 637          | Honore St &amp; Division St       | TA1305000034 | 41.89563 | -87.67207 | 41.90312 | -87.67394 | member |  3.37 mins | Tuesday  |\n",
       "\n"
      ],
      "text/plain": [
       "  ride_id          rideable_type started_at          ended_at           \n",
       "1 C2F7DD78E82EC875 electric_bike 2022-01-13 11:59:47 2022-01-13 12:02:44\n",
       "2 A6CF8980A652D272 electric_bike 2022-01-10 08:41:56 2022-01-10 08:46:17\n",
       "3 BD0F91DFF741C66D classic_bike  2022-01-25 04:53:40 2022-01-25 04:58:01\n",
       "4 CBB80ED419105406 classic_bike  2022-01-04 00:18:04 2022-01-04 00:33:00\n",
       "5 DDC963BFDDA51EEA classic_bike  2022-01-20 01:31:10 2022-01-20 01:37:12\n",
       "6 A39C6F6CC0586C0B classic_bike  2022-01-11 18:48:09 2022-01-11 18:51:31\n",
       "  start_station_name            start_station_id end_station_name             \n",
       "1 Glenwood Ave & Touhy Ave      525              Clark St & Touhy Ave         \n",
       "2 Glenwood Ave & Touhy Ave      525              Clark St & Touhy Ave         \n",
       "3 Sheffield Ave & Fullerton Ave TA1306000016     Greenview Ave & Fullerton Ave\n",
       "4 Clark St & Bryn Mawr Ave      KA1504000151     Paulina St & Montrose Ave    \n",
       "5 Michigan Ave & Jackson Blvd   TA1309000002     State St & Randolph St       \n",
       "6 Wood St & Chicago Ave         637              Honore St & Division St      \n",
       "  end_station_id start_lat start_lng end_lat  end_lng   member_casual\n",
       "1 RP-007         42.01280  -87.66591 42.01256 -87.67437 casual       \n",
       "2 RP-007         42.01276  -87.66597 42.01256 -87.67437 casual       \n",
       "3 TA1307000001   41.92560  -87.65371 41.92533 -87.66580 member       \n",
       "4 TA1309000021   41.98359  -87.66915 41.96151 -87.67139 casual       \n",
       "5 TA1305000029   41.87785  -87.62408 41.88462 -87.62783 member       \n",
       "6 TA1305000034   41.89563  -87.67207 41.90312 -87.67394 member       \n",
       "  ride_length day_of_week\n",
       "1  2.95 mins  Thursday   \n",
       "2  4.35 mins  Monday     \n",
       "3  4.35 mins  Tuesday    \n",
       "4 14.93 mins  Tuesday    \n",
       "5  6.03 mins  Thursday   \n",
       "6  3.37 mins  Tuesday    "
      ]
     },
     "metadata": {},
     "output_type": "display_data"
    }
   ],
   "source": [
    "#getting rid of all unusual outliers\n",
    "bike_share_filtered <- df2 %>%\n",
    "    filter(ride_length > 0 & ride_length < 120)\n",
    "head(bike_share_filtered)"
   ]
  },
  {
   "cell_type": "code",
   "execution_count": 18,
   "id": "98e6e25d",
   "metadata": {
    "execution": {
     "iopub.execute_input": "2023-09-23T01:52:55.139911Z",
     "iopub.status.busy": "2023-09-23T01:52:55.138167Z",
     "iopub.status.idle": "2023-09-23T01:52:55.860939Z",
     "shell.execute_reply": "2023-09-23T01:52:55.858294Z"
    },
    "papermill": {
     "duration": 0.752991,
     "end_time": "2023-09-23T01:52:55.864503",
     "exception": false,
     "start_time": "2023-09-23T01:52:55.111512",
     "status": "completed"
    },
    "tags": []
   },
   "outputs": [
    {
     "data": {
      "text/html": [
       "<table class=\"dataframe\">\n",
       "<caption>A tibble: 7 × 3</caption>\n",
       "<thead>\n",
       "\t<tr><th scope=col>day_of_week</th><th scope=col>frequency</th><th scope=col>average_ride_len</th></tr>\n",
       "\t<tr><th scope=col>&lt;chr&gt;</th><th scope=col>&lt;int&gt;</th><th scope=col>&lt;drtn&gt;</th></tr>\n",
       "</thead>\n",
       "<tbody>\n",
       "\t<tr><td>Saturday </td><td>906227</td><td>17.22075 mins</td></tr>\n",
       "\t<tr><td>Thursday </td><td>836374</td><td>13.53696 mins</td></tr>\n",
       "\t<tr><td>Friday   </td><td>795911</td><td>14.25300 mins</td></tr>\n",
       "\t<tr><td>Wednesday</td><td>793884</td><td>13.17625 mins</td></tr>\n",
       "\t<tr><td>Tuesday  </td><td>777527</td><td>13.19730 mins</td></tr>\n",
       "\t<tr><td>Sunday   </td><td>767101</td><td>17.16731 mins</td></tr>\n",
       "\t<tr><td>Monday   </td><td>745139</td><td>14.30729 mins</td></tr>\n",
       "</tbody>\n",
       "</table>\n"
      ],
      "text/latex": [
       "A tibble: 7 × 3\n",
       "\\begin{tabular}{lll}\n",
       " day\\_of\\_week & frequency & average\\_ride\\_len\\\\\n",
       " <chr> & <int> & <drtn>\\\\\n",
       "\\hline\n",
       "\t Saturday  & 906227 & 17.22075 mins\\\\\n",
       "\t Thursday  & 836374 & 13.53696 mins\\\\\n",
       "\t Friday    & 795911 & 14.25300 mins\\\\\n",
       "\t Wednesday & 793884 & 13.17625 mins\\\\\n",
       "\t Tuesday   & 777527 & 13.19730 mins\\\\\n",
       "\t Sunday    & 767101 & 17.16731 mins\\\\\n",
       "\t Monday    & 745139 & 14.30729 mins\\\\\n",
       "\\end{tabular}\n"
      ],
      "text/markdown": [
       "\n",
       "A tibble: 7 × 3\n",
       "\n",
       "| day_of_week &lt;chr&gt; | frequency &lt;int&gt; | average_ride_len &lt;drtn&gt; |\n",
       "|---|---|---|\n",
       "| Saturday  | 906227 | 17.22075 mins |\n",
       "| Thursday  | 836374 | 13.53696 mins |\n",
       "| Friday    | 795911 | 14.25300 mins |\n",
       "| Wednesday | 793884 | 13.17625 mins |\n",
       "| Tuesday   | 777527 | 13.19730 mins |\n",
       "| Sunday    | 767101 | 17.16731 mins |\n",
       "| Monday    | 745139 | 14.30729 mins |\n",
       "\n"
      ],
      "text/plain": [
       "  day_of_week frequency average_ride_len\n",
       "1 Saturday    906227    17.22075 mins   \n",
       "2 Thursday    836374    13.53696 mins   \n",
       "3 Friday      795911    14.25300 mins   \n",
       "4 Wednesday   793884    13.17625 mins   \n",
       "5 Tuesday     777527    13.19730 mins   \n",
       "6 Sunday      767101    17.16731 mins   \n",
       "7 Monday      745139    14.30729 mins   "
      ]
     },
     "metadata": {},
     "output_type": "display_data"
    }
   ],
   "source": [
    "bike_share_filtered %>%\n",
    "    group_by(day_of_week) %>% \n",
    "    summarize(frequency = n(), average_ride_len = mean(ride_length)) %>%\n",
    "    arrange(-frequency)%>%\n",
    "    ungroup()"
   ]
  },
  {
   "cell_type": "markdown",
   "id": "d826f121",
   "metadata": {
    "papermill": {
     "duration": 0.024562,
     "end_time": "2023-09-23T01:52:55.914138",
     "exception": false,
     "start_time": "2023-09-23T01:52:55.889576",
     "status": "completed"
    },
    "tags": []
   },
   "source": [
    "Our average ride length now looks significantly different from how it did before."
   ]
  },
  {
   "cell_type": "code",
   "execution_count": 19,
   "id": "461e2c00",
   "metadata": {
    "execution": {
     "iopub.execute_input": "2023-09-23T01:52:55.968743Z",
     "iopub.status.busy": "2023-09-23T01:52:55.966951Z",
     "iopub.status.idle": "2023-09-23T01:52:59.058291Z",
     "shell.execute_reply": "2023-09-23T01:52:59.056295Z"
    },
    "papermill": {
     "duration": 3.122054,
     "end_time": "2023-09-23T01:52:59.061320",
     "exception": false,
     "start_time": "2023-09-23T01:52:55.939266",
     "status": "completed"
    },
    "tags": []
   },
   "outputs": [],
   "source": [
    "#Filtering into two separate dataframes\n",
    "member_filtered <- bike_share_filtered %>%\n",
    "    filter(member_casual == \"member\")\n",
    "casual_filtered <- bike_share_filtered %>%\n",
    "    filter(member_casual == \"casual\")"
   ]
  },
  {
   "cell_type": "code",
   "execution_count": 20,
   "id": "77f03c7a",
   "metadata": {
    "execution": {
     "iopub.execute_input": "2023-09-23T01:52:59.116744Z",
     "iopub.status.busy": "2023-09-23T01:52:59.115056Z",
     "iopub.status.idle": "2023-09-23T01:52:59.166625Z",
     "shell.execute_reply": "2023-09-23T01:52:59.164721Z"
    },
    "papermill": {
     "duration": 0.081835,
     "end_time": "2023-09-23T01:52:59.169309",
     "exception": false,
     "start_time": "2023-09-23T01:52:59.087474",
     "status": "completed"
    },
    "tags": []
   },
   "outputs": [
    {
     "data": {
      "text/html": [
       "<table class=\"dataframe\">\n",
       "<caption>A tibble: 6 × 15</caption>\n",
       "<thead>\n",
       "\t<tr><th scope=col>ride_id</th><th scope=col>rideable_type</th><th scope=col>started_at</th><th scope=col>ended_at</th><th scope=col>start_station_name</th><th scope=col>start_station_id</th><th scope=col>end_station_name</th><th scope=col>end_station_id</th><th scope=col>start_lat</th><th scope=col>start_lng</th><th scope=col>end_lat</th><th scope=col>end_lng</th><th scope=col>member_casual</th><th scope=col>ride_length</th><th scope=col>day_of_week</th></tr>\n",
       "\t<tr><th scope=col>&lt;chr&gt;</th><th scope=col>&lt;chr&gt;</th><th scope=col>&lt;dttm&gt;</th><th scope=col>&lt;dttm&gt;</th><th scope=col>&lt;chr&gt;</th><th scope=col>&lt;chr&gt;</th><th scope=col>&lt;chr&gt;</th><th scope=col>&lt;chr&gt;</th><th scope=col>&lt;dbl&gt;</th><th scope=col>&lt;dbl&gt;</th><th scope=col>&lt;dbl&gt;</th><th scope=col>&lt;dbl&gt;</th><th scope=col>&lt;chr&gt;</th><th scope=col>&lt;drtn&gt;</th><th scope=col>&lt;chr&gt;</th></tr>\n",
       "</thead>\n",
       "<tbody>\n",
       "\t<tr><td>BD0F91DFF741C66D</td><td>classic_bike </td><td>2022-01-25 04:53:40</td><td>2022-01-25 04:58:01</td><td>Sheffield Ave &amp; Fullerton Ave</td><td>TA1306000016</td><td>Greenview Ave &amp; Fullerton Ave</td><td>TA1307000001</td><td>41.92560</td><td>-87.65371</td><td>41.92533</td><td>-87.66580</td><td>member</td><td> 4.35 mins</td><td>Tuesday </td></tr>\n",
       "\t<tr><td>DDC963BFDDA51EEA</td><td>classic_bike </td><td>2022-01-20 01:31:10</td><td>2022-01-20 01:37:12</td><td><span style=white-space:pre-wrap>Michigan Ave &amp; Jackson Blvd  </span></td><td>TA1309000002</td><td><span style=white-space:pre-wrap>State St &amp; Randolph St       </span></td><td>TA1305000029</td><td>41.87785</td><td>-87.62408</td><td>41.88462</td><td>-87.62783</td><td>member</td><td> 6.03 mins</td><td>Thursday</td></tr>\n",
       "\t<tr><td>A39C6F6CC0586C0B</td><td>classic_bike </td><td>2022-01-11 18:48:09</td><td>2022-01-11 18:51:31</td><td><span style=white-space:pre-wrap>Wood St &amp; Chicago Ave        </span></td><td><span style=white-space:pre-wrap>637         </span></td><td><span style=white-space:pre-wrap>Honore St &amp; Division St      </span></td><td>TA1305000034</td><td>41.89563</td><td>-87.67207</td><td>41.90312</td><td>-87.67394</td><td>member</td><td> 3.37 mins</td><td>Tuesday </td></tr>\n",
       "\t<tr><td>BDC4AB637EDF981B</td><td>classic_bike </td><td>2022-01-30 18:32:52</td><td>2022-01-30 18:49:26</td><td><span style=white-space:pre-wrap>Oakley Ave &amp; Irving Park Rd  </span></td><td>KA1504000158</td><td><span style=white-space:pre-wrap>Broadway &amp; Sheridan Rd       </span></td><td><span style=white-space:pre-wrap>13323       </span></td><td>41.95434</td><td>-87.68608</td><td>41.95283</td><td>-87.64999</td><td>member</td><td>16.57 mins</td><td><span style=white-space:pre-wrap>Sunday  </span></td></tr>\n",
       "\t<tr><td>81751A3186E59A6B</td><td>classic_bike </td><td>2022-01-22 12:20:02</td><td>2022-01-22 12:32:06</td><td>Sheffield Ave &amp; Fullerton Ave</td><td>TA1306000016</td><td><span style=white-space:pre-wrap>Damen Ave &amp; Clybourn Ave     </span></td><td><span style=white-space:pre-wrap>13271       </span></td><td>41.92560</td><td>-87.65371</td><td>41.93193</td><td>-87.67786</td><td>member</td><td>12.07 mins</td><td>Saturday</td></tr>\n",
       "\t<tr><td>154222B86A338ABD</td><td>electric_bike</td><td>2022-01-17 07:34:41</td><td>2022-01-17 08:00:08</td><td><span style=white-space:pre-wrap>Racine Ave &amp; 15th St         </span></td><td><span style=white-space:pre-wrap>13304       </span></td><td>Clinton St &amp; Washington Blvd </td><td><span style=white-space:pre-wrap>WL-012      </span></td><td>41.86125</td><td>-87.65650</td><td>41.88338</td><td>-87.64117</td><td>member</td><td>25.45 mins</td><td><span style=white-space:pre-wrap>Monday  </span></td></tr>\n",
       "</tbody>\n",
       "</table>\n"
      ],
      "text/latex": [
       "A tibble: 6 × 15\n",
       "\\begin{tabular}{lllllllllllllll}\n",
       " ride\\_id & rideable\\_type & started\\_at & ended\\_at & start\\_station\\_name & start\\_station\\_id & end\\_station\\_name & end\\_station\\_id & start\\_lat & start\\_lng & end\\_lat & end\\_lng & member\\_casual & ride\\_length & day\\_of\\_week\\\\\n",
       " <chr> & <chr> & <dttm> & <dttm> & <chr> & <chr> & <chr> & <chr> & <dbl> & <dbl> & <dbl> & <dbl> & <chr> & <drtn> & <chr>\\\\\n",
       "\\hline\n",
       "\t BD0F91DFF741C66D & classic\\_bike  & 2022-01-25 04:53:40 & 2022-01-25 04:58:01 & Sheffield Ave \\& Fullerton Ave & TA1306000016 & Greenview Ave \\& Fullerton Ave & TA1307000001 & 41.92560 & -87.65371 & 41.92533 & -87.66580 & member &  4.35 mins & Tuesday \\\\\n",
       "\t DDC963BFDDA51EEA & classic\\_bike  & 2022-01-20 01:31:10 & 2022-01-20 01:37:12 & Michigan Ave \\& Jackson Blvd   & TA1309000002 & State St \\& Randolph St        & TA1305000029 & 41.87785 & -87.62408 & 41.88462 & -87.62783 & member &  6.03 mins & Thursday\\\\\n",
       "\t A39C6F6CC0586C0B & classic\\_bike  & 2022-01-11 18:48:09 & 2022-01-11 18:51:31 & Wood St \\& Chicago Ave         & 637          & Honore St \\& Division St       & TA1305000034 & 41.89563 & -87.67207 & 41.90312 & -87.67394 & member &  3.37 mins & Tuesday \\\\\n",
       "\t BDC4AB637EDF981B & classic\\_bike  & 2022-01-30 18:32:52 & 2022-01-30 18:49:26 & Oakley Ave \\& Irving Park Rd   & KA1504000158 & Broadway \\& Sheridan Rd        & 13323        & 41.95434 & -87.68608 & 41.95283 & -87.64999 & member & 16.57 mins & Sunday  \\\\\n",
       "\t 81751A3186E59A6B & classic\\_bike  & 2022-01-22 12:20:02 & 2022-01-22 12:32:06 & Sheffield Ave \\& Fullerton Ave & TA1306000016 & Damen Ave \\& Clybourn Ave      & 13271        & 41.92560 & -87.65371 & 41.93193 & -87.67786 & member & 12.07 mins & Saturday\\\\\n",
       "\t 154222B86A338ABD & electric\\_bike & 2022-01-17 07:34:41 & 2022-01-17 08:00:08 & Racine Ave \\& 15th St          & 13304        & Clinton St \\& Washington Blvd  & WL-012       & 41.86125 & -87.65650 & 41.88338 & -87.64117 & member & 25.45 mins & Monday  \\\\\n",
       "\\end{tabular}\n"
      ],
      "text/markdown": [
       "\n",
       "A tibble: 6 × 15\n",
       "\n",
       "| ride_id &lt;chr&gt; | rideable_type &lt;chr&gt; | started_at &lt;dttm&gt; | ended_at &lt;dttm&gt; | start_station_name &lt;chr&gt; | start_station_id &lt;chr&gt; | end_station_name &lt;chr&gt; | end_station_id &lt;chr&gt; | start_lat &lt;dbl&gt; | start_lng &lt;dbl&gt; | end_lat &lt;dbl&gt; | end_lng &lt;dbl&gt; | member_casual &lt;chr&gt; | ride_length &lt;drtn&gt; | day_of_week &lt;chr&gt; |\n",
       "|---|---|---|---|---|---|---|---|---|---|---|---|---|---|---|\n",
       "| BD0F91DFF741C66D | classic_bike  | 2022-01-25 04:53:40 | 2022-01-25 04:58:01 | Sheffield Ave &amp; Fullerton Ave | TA1306000016 | Greenview Ave &amp; Fullerton Ave | TA1307000001 | 41.92560 | -87.65371 | 41.92533 | -87.66580 | member |  4.35 mins | Tuesday  |\n",
       "| DDC963BFDDA51EEA | classic_bike  | 2022-01-20 01:31:10 | 2022-01-20 01:37:12 | Michigan Ave &amp; Jackson Blvd   | TA1309000002 | State St &amp; Randolph St        | TA1305000029 | 41.87785 | -87.62408 | 41.88462 | -87.62783 | member |  6.03 mins | Thursday |\n",
       "| A39C6F6CC0586C0B | classic_bike  | 2022-01-11 18:48:09 | 2022-01-11 18:51:31 | Wood St &amp; Chicago Ave         | 637          | Honore St &amp; Division St       | TA1305000034 | 41.89563 | -87.67207 | 41.90312 | -87.67394 | member |  3.37 mins | Tuesday  |\n",
       "| BDC4AB637EDF981B | classic_bike  | 2022-01-30 18:32:52 | 2022-01-30 18:49:26 | Oakley Ave &amp; Irving Park Rd   | KA1504000158 | Broadway &amp; Sheridan Rd        | 13323        | 41.95434 | -87.68608 | 41.95283 | -87.64999 | member | 16.57 mins | Sunday   |\n",
       "| 81751A3186E59A6B | classic_bike  | 2022-01-22 12:20:02 | 2022-01-22 12:32:06 | Sheffield Ave &amp; Fullerton Ave | TA1306000016 | Damen Ave &amp; Clybourn Ave      | 13271        | 41.92560 | -87.65371 | 41.93193 | -87.67786 | member | 12.07 mins | Saturday |\n",
       "| 154222B86A338ABD | electric_bike | 2022-01-17 07:34:41 | 2022-01-17 08:00:08 | Racine Ave &amp; 15th St          | 13304        | Clinton St &amp; Washington Blvd  | WL-012       | 41.86125 | -87.65650 | 41.88338 | -87.64117 | member | 25.45 mins | Monday   |\n",
       "\n"
      ],
      "text/plain": [
       "  ride_id          rideable_type started_at          ended_at           \n",
       "1 BD0F91DFF741C66D classic_bike  2022-01-25 04:53:40 2022-01-25 04:58:01\n",
       "2 DDC963BFDDA51EEA classic_bike  2022-01-20 01:31:10 2022-01-20 01:37:12\n",
       "3 A39C6F6CC0586C0B classic_bike  2022-01-11 18:48:09 2022-01-11 18:51:31\n",
       "4 BDC4AB637EDF981B classic_bike  2022-01-30 18:32:52 2022-01-30 18:49:26\n",
       "5 81751A3186E59A6B classic_bike  2022-01-22 12:20:02 2022-01-22 12:32:06\n",
       "6 154222B86A338ABD electric_bike 2022-01-17 07:34:41 2022-01-17 08:00:08\n",
       "  start_station_name            start_station_id end_station_name             \n",
       "1 Sheffield Ave & Fullerton Ave TA1306000016     Greenview Ave & Fullerton Ave\n",
       "2 Michigan Ave & Jackson Blvd   TA1309000002     State St & Randolph St       \n",
       "3 Wood St & Chicago Ave         637              Honore St & Division St      \n",
       "4 Oakley Ave & Irving Park Rd   KA1504000158     Broadway & Sheridan Rd       \n",
       "5 Sheffield Ave & Fullerton Ave TA1306000016     Damen Ave & Clybourn Ave     \n",
       "6 Racine Ave & 15th St          13304            Clinton St & Washington Blvd \n",
       "  end_station_id start_lat start_lng end_lat  end_lng   member_casual\n",
       "1 TA1307000001   41.92560  -87.65371 41.92533 -87.66580 member       \n",
       "2 TA1305000029   41.87785  -87.62408 41.88462 -87.62783 member       \n",
       "3 TA1305000034   41.89563  -87.67207 41.90312 -87.67394 member       \n",
       "4 13323          41.95434  -87.68608 41.95283 -87.64999 member       \n",
       "5 13271          41.92560  -87.65371 41.93193 -87.67786 member       \n",
       "6 WL-012         41.86125  -87.65650 41.88338 -87.64117 member       \n",
       "  ride_length day_of_week\n",
       "1  4.35 mins  Tuesday    \n",
       "2  6.03 mins  Thursday   \n",
       "3  3.37 mins  Tuesday    \n",
       "4 16.57 mins  Sunday     \n",
       "5 12.07 mins  Saturday   \n",
       "6 25.45 mins  Monday     "
      ]
     },
     "metadata": {},
     "output_type": "display_data"
    }
   ],
   "source": [
    "head(member_filtered)"
   ]
  },
  {
   "cell_type": "code",
   "execution_count": 21,
   "id": "9f4832b1",
   "metadata": {
    "execution": {
     "iopub.execute_input": "2023-09-23T01:52:59.225252Z",
     "iopub.status.busy": "2023-09-23T01:52:59.223378Z",
     "iopub.status.idle": "2023-09-23T01:52:59.510293Z",
     "shell.execute_reply": "2023-09-23T01:52:59.508171Z"
    },
    "papermill": {
     "duration": 0.318809,
     "end_time": "2023-09-23T01:52:59.513087",
     "exception": false,
     "start_time": "2023-09-23T01:52:59.194278",
     "status": "completed"
    },
    "tags": []
   },
   "outputs": [
    {
     "data": {
      "text/html": [
       "<table class=\"dataframe\">\n",
       "<caption>A tibble: 7 × 3</caption>\n",
       "<thead>\n",
       "\t<tr><th scope=col>day_of_week</th><th scope=col>count_of_day</th><th scope=col>average_ride_time</th></tr>\n",
       "\t<tr><th scope=col>&lt;chr&gt;</th><th scope=col>&lt;int&gt;</th><th scope=col>&lt;dbl&gt;</th></tr>\n",
       "</thead>\n",
       "<tbody>\n",
       "\t<tr><td>Thursday </td><td>531222</td><td>11.53579</td></tr>\n",
       "\t<tr><td>Wednesday</td><td>522992</td><td>11.41610</td></tr>\n",
       "\t<tr><td>Tuesday  </td><td>517609</td><td>11.30361</td></tr>\n",
       "\t<tr><td>Monday   </td><td>472440</td><td>11.49697</td></tr>\n",
       "\t<tr><td>Friday   </td><td>466081</td><td>11.69437</td></tr>\n",
       "\t<tr><td>Saturday </td><td>442233</td><td>13.20891</td></tr>\n",
       "\t<tr><td>Sunday   </td><td>386209</td><td>13.09230</td></tr>\n",
       "</tbody>\n",
       "</table>\n"
      ],
      "text/latex": [
       "A tibble: 7 × 3\n",
       "\\begin{tabular}{lll}\n",
       " day\\_of\\_week & count\\_of\\_day & average\\_ride\\_time\\\\\n",
       " <chr> & <int> & <dbl>\\\\\n",
       "\\hline\n",
       "\t Thursday  & 531222 & 11.53579\\\\\n",
       "\t Wednesday & 522992 & 11.41610\\\\\n",
       "\t Tuesday   & 517609 & 11.30361\\\\\n",
       "\t Monday    & 472440 & 11.49697\\\\\n",
       "\t Friday    & 466081 & 11.69437\\\\\n",
       "\t Saturday  & 442233 & 13.20891\\\\\n",
       "\t Sunday    & 386209 & 13.09230\\\\\n",
       "\\end{tabular}\n"
      ],
      "text/markdown": [
       "\n",
       "A tibble: 7 × 3\n",
       "\n",
       "| day_of_week &lt;chr&gt; | count_of_day &lt;int&gt; | average_ride_time &lt;dbl&gt; |\n",
       "|---|---|---|\n",
       "| Thursday  | 531222 | 11.53579 |\n",
       "| Wednesday | 522992 | 11.41610 |\n",
       "| Tuesday   | 517609 | 11.30361 |\n",
       "| Monday    | 472440 | 11.49697 |\n",
       "| Friday    | 466081 | 11.69437 |\n",
       "| Saturday  | 442233 | 13.20891 |\n",
       "| Sunday    | 386209 | 13.09230 |\n",
       "\n"
      ],
      "text/plain": [
       "  day_of_week count_of_day average_ride_time\n",
       "1 Thursday    531222       11.53579         \n",
       "2 Wednesday   522992       11.41610         \n",
       "3 Tuesday     517609       11.30361         \n",
       "4 Monday      472440       11.49697         \n",
       "5 Friday      466081       11.69437         \n",
       "6 Saturday    442233       13.20891         \n",
       "7 Sunday      386209       13.09230         "
      ]
     },
     "metadata": {},
     "output_type": "display_data"
    },
    {
     "data": {
      "text/html": [
       "<table class=\"dataframe\">\n",
       "<caption>A tibble: 7 × 3</caption>\n",
       "<thead>\n",
       "\t<tr><th scope=col>day_of_week</th><th scope=col>count_of_day</th><th scope=col>average_ride_time</th></tr>\n",
       "\t<tr><th scope=col>&lt;chr&gt;</th><th scope=col>&lt;int&gt;</th><th scope=col>&lt;dbl&gt;</th></tr>\n",
       "</thead>\n",
       "<tbody>\n",
       "\t<tr><td>Saturday </td><td>463994</td><td>21.04444</td></tr>\n",
       "\t<tr><td>Sunday   </td><td>380892</td><td>21.29919</td></tr>\n",
       "\t<tr><td>Friday   </td><td>329830</td><td>17.86860</td></tr>\n",
       "\t<tr><td>Thursday </td><td>305152</td><td>17.02070</td></tr>\n",
       "\t<tr><td>Monday   </td><td>272699</td><td>19.17604</td></tr>\n",
       "\t<tr><td>Wednesday</td><td>270892</td><td>16.57446</td></tr>\n",
       "\t<tr><td>Tuesday  </td><td>259918</td><td>16.96846</td></tr>\n",
       "</tbody>\n",
       "</table>\n"
      ],
      "text/latex": [
       "A tibble: 7 × 3\n",
       "\\begin{tabular}{lll}\n",
       " day\\_of\\_week & count\\_of\\_day & average\\_ride\\_time\\\\\n",
       " <chr> & <int> & <dbl>\\\\\n",
       "\\hline\n",
       "\t Saturday  & 463994 & 21.04444\\\\\n",
       "\t Sunday    & 380892 & 21.29919\\\\\n",
       "\t Friday    & 329830 & 17.86860\\\\\n",
       "\t Thursday  & 305152 & 17.02070\\\\\n",
       "\t Monday    & 272699 & 19.17604\\\\\n",
       "\t Wednesday & 270892 & 16.57446\\\\\n",
       "\t Tuesday   & 259918 & 16.96846\\\\\n",
       "\\end{tabular}\n"
      ],
      "text/markdown": [
       "\n",
       "A tibble: 7 × 3\n",
       "\n",
       "| day_of_week &lt;chr&gt; | count_of_day &lt;int&gt; | average_ride_time &lt;dbl&gt; |\n",
       "|---|---|---|\n",
       "| Saturday  | 463994 | 21.04444 |\n",
       "| Sunday    | 380892 | 21.29919 |\n",
       "| Friday    | 329830 | 17.86860 |\n",
       "| Thursday  | 305152 | 17.02070 |\n",
       "| Monday    | 272699 | 19.17604 |\n",
       "| Wednesday | 270892 | 16.57446 |\n",
       "| Tuesday   | 259918 | 16.96846 |\n",
       "\n"
      ],
      "text/plain": [
       "  day_of_week count_of_day average_ride_time\n",
       "1 Saturday    463994       21.04444         \n",
       "2 Sunday      380892       21.29919         \n",
       "3 Friday      329830       17.86860         \n",
       "4 Thursday    305152       17.02070         \n",
       "5 Monday      272699       19.17604         \n",
       "6 Wednesday   270892       16.57446         \n",
       "7 Tuesday     259918       16.96846         "
      ]
     },
     "metadata": {},
     "output_type": "display_data"
    }
   ],
   "source": [
    "member_rider_summary = member_filtered %>% \n",
    "    group_by(day_of_week) %>%\n",
    "    summarize(count_of_day = n(), average_ride_time = mean(as.numeric(ride_length))) %>%\n",
    "    arrange(-count_of_day)\n",
    "casual_rider_summary = casual_filtered %>% \n",
    "    group_by(day_of_week) %>%\n",
    "    summarize(count_of_day = n(), average_ride_time = mean(as.numeric(ride_length))) %>%\n",
    "    arrange(-count_of_day)\n",
    "member_rider_summary\n",
    "casual_rider_summary"
   ]
  },
  {
   "cell_type": "code",
   "execution_count": 22,
   "id": "15985294",
   "metadata": {
    "execution": {
     "iopub.execute_input": "2023-09-23T01:52:59.568712Z",
     "iopub.status.busy": "2023-09-23T01:52:59.566852Z",
     "iopub.status.idle": "2023-09-23T01:53:14.253674Z",
     "shell.execute_reply": "2023-09-23T01:53:14.251717Z"
    },
    "papermill": {
     "duration": 14.718084,
     "end_time": "2023-09-23T01:53:14.257030",
     "exception": false,
     "start_time": "2023-09-23T01:52:59.538946",
     "status": "completed"
    },
    "tags": []
   },
   "outputs": [
    {
     "data": {
      "image/png": "[encoded data removed]"
     },
     "metadata": {
      "image/png": {
       "height": 420,
       "width": 420
      }
     },
     "output_type": "display_data"
    }
   ],
   "source": [
    "ggplot(data=bike_share_filtered, aes(x = ordered(day_of_week, levels=c(\"Sunday\", \"Monday\", \"Tuesday\", \"Wednesday\", \"Thursday\", \"Friday\", \"Saturday\")), fill = member_casual)) +\n",
    "  geom_bar(position = position_dodge()) +\n",
    "  labs(title = \"Casual Vs Membership Riders Favorite Days of The Week\", subtitle = \"Casual riders ride less on weekdays and more on weekends\") +\n",
    "  theme(legend.position = \"top\")"
   ]
  },
  {
   "cell_type": "markdown",
   "id": "6696d1c3",
   "metadata": {
    "papermill": {
     "duration": 0.027102,
     "end_time": "2023-09-23T01:53:14.313793",
     "exception": false,
     "start_time": "2023-09-23T01:53:14.286691",
     "status": "completed"
    },
    "tags": []
   },
   "source": [
    "Membership holders still hold a higher ridership for almost all days except for the weekend. However, Casual riders are still averaging a higher ride length average."
   ]
  },
  {
   "cell_type": "markdown",
   "id": "b6a995bc",
   "metadata": {
    "papermill": {
     "duration": 0.026225,
     "end_time": "2023-09-23T01:53:14.366395",
     "exception": false,
     "start_time": "2023-09-23T01:53:14.340170",
     "status": "completed"
    },
    "tags": []
   },
   "source": [
    "## Lastly lets check the amount of NAs in each respective DataFrame"
   ]
  },
  {
   "cell_type": "code",
   "execution_count": 23,
   "id": "f04af2ca",
   "metadata": {
    "execution": {
     "iopub.execute_input": "2023-09-23T01:53:14.423639Z",
     "iopub.status.busy": "2023-09-23T01:53:14.421469Z",
     "iopub.status.idle": "2023-09-23T01:53:14.593880Z",
     "shell.execute_reply": "2023-09-23T01:53:14.591177Z"
    },
    "papermill": {
     "duration": 0.204177,
     "end_time": "2023-09-23T01:53:14.597034",
     "exception": false,
     "start_time": "2023-09-23T01:53:14.392857",
     "status": "completed"
    },
    "tags": []
   },
   "outputs": [
    {
     "name": "stdout",
     "output_type": "stream",
     "text": [
      "0  NAs inside of ride_id \n",
      "0  NAs inside of rideable_type \n",
      "0  NAs inside of started_at \n",
      "0  NAs inside of ended_at \n",
      "484299  NAs inside of start_station_name \n",
      "484299  NAs inside of start_station_id \n",
      "481407  NAs inside of end_station_name \n",
      "481407  NAs inside of end_station_id \n",
      "0  NAs inside of start_lat \n",
      "0  NAs inside of start_lng \n",
      "5  NAs inside of end_lat \n",
      "5  NAs inside of end_lng \n",
      "0  NAs inside of member_casual \n",
      "0  NAs inside of ride_length \n",
      "0  NAs inside of day_of_week \n"
     ]
    }
   ],
   "source": [
    "member_filter_col <- as.character(unlist(strsplit(colnames(member_filtered), split=\" \")))\n",
    "for (i in member_filter_col){\n",
    "    cat(sum(is.na(member_filtered[[i]])),\" NAs inside of\",i,\"\\n\")\n",
    "}\n"
   ]
  },
  {
   "cell_type": "code",
   "execution_count": 24,
   "id": "e545f7b1",
   "metadata": {
    "execution": {
     "iopub.execute_input": "2023-09-23T01:53:14.655781Z",
     "iopub.status.busy": "2023-09-23T01:53:14.653681Z",
     "iopub.status.idle": "2023-09-23T01:53:14.848484Z",
     "shell.execute_reply": "2023-09-23T01:53:14.846068Z"
    },
    "papermill": {
     "duration": 0.227335,
     "end_time": "2023-09-23T01:53:14.851320",
     "exception": false,
     "start_time": "2023-09-23T01:53:14.623985",
     "status": "completed"
    },
    "tags": []
   },
   "outputs": [
    {
     "name": "stdout",
     "output_type": "stream",
     "text": [
      "0  NAs inside of ride_id \n",
      "0  NAs inside of rideable_type \n",
      "0  NAs inside of started_at \n",
      "0  NAs inside of ended_at \n",
      "346268  NAs inside of start_station_name \n",
      "346268  NAs inside of start_station_id \n",
      "401997  NAs inside of end_station_name \n",
      "401997  NAs inside of end_station_id \n",
      "0  NAs inside of start_lat \n",
      "0  NAs inside of start_lng \n",
      "363  NAs inside of end_lat \n",
      "363  NAs inside of end_lng \n",
      "0  NAs inside of member_casual \n",
      "0  NAs inside of ride_length \n",
      "0  NAs inside of day_of_week \n"
     ]
    }
   ],
   "source": [
    "casual_filter_col <- as.character(unlist(strsplit(colnames(casual_filtered), split=\" \")))\n",
    "for (i in casual_filter_col){\n",
    "    cat(sum(is.na(casual_filtered[[i]])),\" NAs inside of\",i,\"\\n\")\n",
    "}"
   ]
  },
  {
   "cell_type": "markdown",
   "id": "4f72e3a1",
   "metadata": {
    "papermill": {
     "duration": 0.027046,
     "end_time": "2023-09-23T01:53:14.906499",
     "exception": false,
     "start_time": "2023-09-23T01:53:14.879453",
     "status": "completed"
    },
    "tags": []
   },
   "source": [
    "Interestingly enough, we acutally find that Members have more NA values than casual members."
   ]
  },
  {
   "cell_type": "code",
   "execution_count": 25,
   "id": "8ebf2b12",
   "metadata": {
    "execution": {
     "iopub.execute_input": "2023-09-23T01:53:14.964192Z",
     "iopub.status.busy": "2023-09-23T01:53:14.962368Z",
     "iopub.status.idle": "2023-09-23T01:53:15.641418Z",
     "shell.execute_reply": "2023-09-23T01:53:15.639525Z"
    },
    "papermill": {
     "duration": 0.711074,
     "end_time": "2023-09-23T01:53:15.644034",
     "exception": false,
     "start_time": "2023-09-23T01:53:14.932960",
     "status": "completed"
    },
    "tags": []
   },
   "outputs": [
    {
     "data": {
      "text/html": [
       "<table class=\"dataframe\">\n",
       "<caption>A tibble: 6 × 15</caption>\n",
       "<thead>\n",
       "\t<tr><th scope=col>ride_id</th><th scope=col>rideable_type</th><th scope=col>started_at</th><th scope=col>ended_at</th><th scope=col>start_station_name</th><th scope=col>start_station_id</th><th scope=col>end_station_name</th><th scope=col>end_station_id</th><th scope=col>start_lat</th><th scope=col>start_lng</th><th scope=col>end_lat</th><th scope=col>end_lng</th><th scope=col>member_casual</th><th scope=col>ride_length</th><th scope=col>day_of_week</th></tr>\n",
       "\t<tr><th scope=col>&lt;chr&gt;</th><th scope=col>&lt;chr&gt;</th><th scope=col>&lt;dttm&gt;</th><th scope=col>&lt;dttm&gt;</th><th scope=col>&lt;chr&gt;</th><th scope=col>&lt;chr&gt;</th><th scope=col>&lt;chr&gt;</th><th scope=col>&lt;chr&gt;</th><th scope=col>&lt;dbl&gt;</th><th scope=col>&lt;dbl&gt;</th><th scope=col>&lt;dbl&gt;</th><th scope=col>&lt;dbl&gt;</th><th scope=col>&lt;chr&gt;</th><th scope=col>&lt;drtn&gt;</th><th scope=col>&lt;chr&gt;</th></tr>\n",
       "</thead>\n",
       "<tbody>\n",
       "\t<tr><td>857B71104B437577</td><td>electric_bike</td><td>2022-01-04 17:08:16</td><td>2022-01-04 17:12:15</td><td><span style=white-space:pre-wrap>NA                        </span></td><td><span style=white-space:pre-wrap>NA          </span></td><td>Lockwood Ave &amp; Wrightwood Ave</td><td><span style=white-space:pre-wrap>312         </span></td><td>41.93000</td><td>-87.76000</td><td>41.93000</td><td>-87.76000</td><td>casual</td><td> 3.98 mins</td><td><span style=white-space:pre-wrap>Tuesday  </span></td></tr>\n",
       "\t<tr><td>88276B47FFBB9910</td><td>electric_bike</td><td>2022-01-25 07:39:35</td><td>2022-01-25 07:41:01</td><td>Larrabee St &amp; Kingsbury St</td><td>TA1306000009</td><td><span style=white-space:pre-wrap>NA                           </span></td><td><span style=white-space:pre-wrap>NA          </span></td><td>41.89763</td><td>-87.64339</td><td>41.90000</td><td>-87.64000</td><td>member</td><td> 1.43 mins</td><td><span style=white-space:pre-wrap>Tuesday  </span></td></tr>\n",
       "\t<tr><td>1B66EC28DD618680</td><td>electric_bike</td><td>2022-01-21 14:26:57</td><td>2022-01-21 14:32:17</td><td>Central Park Ave &amp; Ohio St</td><td><span style=white-space:pre-wrap>369         </span></td><td><span style=white-space:pre-wrap>NA                           </span></td><td><span style=white-space:pre-wrap>NA          </span></td><td>41.89000</td><td>-87.72000</td><td>41.90000</td><td>-87.71000</td><td>member</td><td> 5.33 mins</td><td><span style=white-space:pre-wrap>Friday   </span></td></tr>\n",
       "\t<tr><td>565EEF32A9B65000</td><td>electric_bike</td><td>2022-01-11 21:51:25</td><td>2022-01-11 21:55:27</td><td><span style=white-space:pre-wrap>NA                        </span></td><td><span style=white-space:pre-wrap>NA          </span></td><td><span style=white-space:pre-wrap>Ashland Ave &amp; Grace St       </span></td><td><span style=white-space:pre-wrap>13319       </span></td><td>41.95000</td><td>-87.65000</td><td>41.95069</td><td>-87.66870</td><td>member</td><td> 4.03 mins</td><td><span style=white-space:pre-wrap>Tuesday  </span></td></tr>\n",
       "\t<tr><td>C1C1910260144C76</td><td>electric_bike</td><td>2022-01-05 03:25:22</td><td>2022-01-05 03:43:32</td><td><span style=white-space:pre-wrap>NA                        </span></td><td><span style=white-space:pre-wrap>NA          </span></td><td><span style=white-space:pre-wrap>Ashland Ave &amp; Grace St       </span></td><td><span style=white-space:pre-wrap>13319       </span></td><td>41.92000</td><td>-87.69000</td><td>41.95069</td><td>-87.66870</td><td>member</td><td>18.17 mins</td><td>Wednesday</td></tr>\n",
       "\t<tr><td>A3CE921272003727</td><td>electric_bike</td><td>2022-01-18 07:01:29</td><td>2022-01-18 07:14:08</td><td><span style=white-space:pre-wrap>NA                        </span></td><td><span style=white-space:pre-wrap>NA          </span></td><td>Southport Ave &amp; Clybourn Ave </td><td>TA1309000030</td><td>41.91000</td><td>-87.69000</td><td>41.92077</td><td>-87.66371</td><td>member</td><td>12.65 mins</td><td><span style=white-space:pre-wrap>Tuesday  </span></td></tr>\n",
       "</tbody>\n",
       "</table>\n"
      ],
      "text/latex": [
       "A tibble: 6 × 15\n",
       "\\begin{tabular}{lllllllllllllll}\n",
       " ride\\_id & rideable\\_type & started\\_at & ended\\_at & start\\_station\\_name & start\\_station\\_id & end\\_station\\_name & end\\_station\\_id & start\\_lat & start\\_lng & end\\_lat & end\\_lng & member\\_casual & ride\\_length & day\\_of\\_week\\\\\n",
       " <chr> & <chr> & <dttm> & <dttm> & <chr> & <chr> & <chr> & <chr> & <dbl> & <dbl> & <dbl> & <dbl> & <chr> & <drtn> & <chr>\\\\\n",
       "\\hline\n",
       "\t 857B71104B437577 & electric\\_bike & 2022-01-04 17:08:16 & 2022-01-04 17:12:15 & NA                         & NA           & Lockwood Ave \\& Wrightwood Ave & 312          & 41.93000 & -87.76000 & 41.93000 & -87.76000 & casual &  3.98 mins & Tuesday  \\\\\n",
       "\t 88276B47FFBB9910 & electric\\_bike & 2022-01-25 07:39:35 & 2022-01-25 07:41:01 & Larrabee St \\& Kingsbury St & TA1306000009 & NA                            & NA           & 41.89763 & -87.64339 & 41.90000 & -87.64000 & member &  1.43 mins & Tuesday  \\\\\n",
       "\t 1B66EC28DD618680 & electric\\_bike & 2022-01-21 14:26:57 & 2022-01-21 14:32:17 & Central Park Ave \\& Ohio St & 369          & NA                            & NA           & 41.89000 & -87.72000 & 41.90000 & -87.71000 & member &  5.33 mins & Friday   \\\\\n",
       "\t 565EEF32A9B65000 & electric\\_bike & 2022-01-11 21:51:25 & 2022-01-11 21:55:27 & NA                         & NA           & Ashland Ave \\& Grace St        & 13319        & 41.95000 & -87.65000 & 41.95069 & -87.66870 & member &  4.03 mins & Tuesday  \\\\\n",
       "\t C1C1910260144C76 & electric\\_bike & 2022-01-05 03:25:22 & 2022-01-05 03:43:32 & NA                         & NA           & Ashland Ave \\& Grace St        & 13319        & 41.92000 & -87.69000 & 41.95069 & -87.66870 & member & 18.17 mins & Wednesday\\\\\n",
       "\t A3CE921272003727 & electric\\_bike & 2022-01-18 07:01:29 & 2022-01-18 07:14:08 & NA                         & NA           & Southport Ave \\& Clybourn Ave  & TA1309000030 & 41.91000 & -87.69000 & 41.92077 & -87.66371 & member & 12.65 mins & Tuesday  \\\\\n",
       "\\end{tabular}\n"
      ],
      "text/markdown": [
       "\n",
       "A tibble: 6 × 15\n",
       "\n",
       "| ride_id &lt;chr&gt; | rideable_type &lt;chr&gt; | started_at &lt;dttm&gt; | ended_at &lt;dttm&gt; | start_station_name &lt;chr&gt; | start_station_id &lt;chr&gt; | end_station_name &lt;chr&gt; | end_station_id &lt;chr&gt; | start_lat &lt;dbl&gt; | start_lng &lt;dbl&gt; | end_lat &lt;dbl&gt; | end_lng &lt;dbl&gt; | member_casual &lt;chr&gt; | ride_length &lt;drtn&gt; | day_of_week &lt;chr&gt; |\n",
       "|---|---|---|---|---|---|---|---|---|---|---|---|---|---|---|\n",
       "| 857B71104B437577 | electric_bike | 2022-01-04 17:08:16 | 2022-01-04 17:12:15 | NA                         | NA           | Lockwood Ave &amp; Wrightwood Ave | 312          | 41.93000 | -87.76000 | 41.93000 | -87.76000 | casual |  3.98 mins | Tuesday   |\n",
       "| 88276B47FFBB9910 | electric_bike | 2022-01-25 07:39:35 | 2022-01-25 07:41:01 | Larrabee St &amp; Kingsbury St | TA1306000009 | NA                            | NA           | 41.89763 | -87.64339 | 41.90000 | -87.64000 | member |  1.43 mins | Tuesday   |\n",
       "| 1B66EC28DD618680 | electric_bike | 2022-01-21 14:26:57 | 2022-01-21 14:32:17 | Central Park Ave &amp; Ohio St | 369          | NA                            | NA           | 41.89000 | -87.72000 | 41.90000 | -87.71000 | member |  5.33 mins | Friday    |\n",
       "| 565EEF32A9B65000 | electric_bike | 2022-01-11 21:51:25 | 2022-01-11 21:55:27 | NA                         | NA           | Ashland Ave &amp; Grace St        | 13319        | 41.95000 | -87.65000 | 41.95069 | -87.66870 | member |  4.03 mins | Tuesday   |\n",
       "| C1C1910260144C76 | electric_bike | 2022-01-05 03:25:22 | 2022-01-05 03:43:32 | NA                         | NA           | Ashland Ave &amp; Grace St        | 13319        | 41.92000 | -87.69000 | 41.95069 | -87.66870 | member | 18.17 mins | Wednesday |\n",
       "| A3CE921272003727 | electric_bike | 2022-01-18 07:01:29 | 2022-01-18 07:14:08 | NA                         | NA           | Southport Ave &amp; Clybourn Ave  | TA1309000030 | 41.91000 | -87.69000 | 41.92077 | -87.66371 | member | 12.65 mins | Tuesday   |\n",
       "\n"
      ],
      "text/plain": [
       "  ride_id          rideable_type started_at          ended_at           \n",
       "1 857B71104B437577 electric_bike 2022-01-04 17:08:16 2022-01-04 17:12:15\n",
       "2 88276B47FFBB9910 electric_bike 2022-01-25 07:39:35 2022-01-25 07:41:01\n",
       "3 1B66EC28DD618680 electric_bike 2022-01-21 14:26:57 2022-01-21 14:32:17\n",
       "4 565EEF32A9B65000 electric_bike 2022-01-11 21:51:25 2022-01-11 21:55:27\n",
       "5 C1C1910260144C76 electric_bike 2022-01-05 03:25:22 2022-01-05 03:43:32\n",
       "6 A3CE921272003727 electric_bike 2022-01-18 07:01:29 2022-01-18 07:14:08\n",
       "  start_station_name         start_station_id end_station_name             \n",
       "1 NA                         NA               Lockwood Ave & Wrightwood Ave\n",
       "2 Larrabee St & Kingsbury St TA1306000009     NA                           \n",
       "3 Central Park Ave & Ohio St 369              NA                           \n",
       "4 NA                         NA               Ashland Ave & Grace St       \n",
       "5 NA                         NA               Ashland Ave & Grace St       \n",
       "6 NA                         NA               Southport Ave & Clybourn Ave \n",
       "  end_station_id start_lat start_lng end_lat  end_lng   member_casual\n",
       "1 312            41.93000  -87.76000 41.93000 -87.76000 casual       \n",
       "2 NA             41.89763  -87.64339 41.90000 -87.64000 member       \n",
       "3 NA             41.89000  -87.72000 41.90000 -87.71000 member       \n",
       "4 13319          41.95000  -87.65000 41.95069 -87.66870 member       \n",
       "5 13319          41.92000  -87.69000 41.95069 -87.66870 member       \n",
       "6 TA1309000030   41.91000  -87.69000 41.92077 -87.66371 member       \n",
       "  ride_length day_of_week\n",
       "1  3.98 mins  Tuesday    \n",
       "2  1.43 mins  Tuesday    \n",
       "3  5.33 mins  Friday     \n",
       "4  4.03 mins  Tuesday    \n",
       "5 18.17 mins  Wednesday  \n",
       "6 12.65 mins  Tuesday    "
      ]
     },
     "metadata": {},
     "output_type": "display_data"
    },
    {
     "data": {
      "text/html": [
       "<style>\n",
       ".list-inline {list-style: none; margin:0; padding: 0}\n",
       ".list-inline>li {display: inline-block}\n",
       ".list-inline>li:not(:last-child)::after {content: \"\\00b7\"; padding: 0 .5ex}\n",
       "</style>\n",
       "<ol class=list-inline><li>1298357</li><li>15</li></ol>\n"
      ],
      "text/latex": [
       "\\begin{enumerate*}\n",
       "\\item 1298357\n",
       "\\item 15\n",
       "\\end{enumerate*}\n"
      ],
      "text/markdown": [
       "1. 1298357\n",
       "2. 15\n",
       "\n",
       "\n"
      ],
      "text/plain": [
       "[1] 1298357      15"
      ]
     },
     "metadata": {},
     "output_type": "display_data"
    }
   ],
   "source": [
    "df2_na_col <- df2 %>%\n",
    "    filter(is.na(start_station_name) | is.na(end_station_name))\n",
    "head(df2_na_col)\n",
    "dim(df2_na_col)"
   ]
  },
  {
   "cell_type": "code",
   "execution_count": 26,
   "id": "4ea8e626",
   "metadata": {
    "execution": {
     "iopub.execute_input": "2023-09-23T01:53:15.702955Z",
     "iopub.status.busy": "2023-09-23T01:53:15.701195Z",
     "iopub.status.idle": "2023-09-23T01:53:18.751150Z",
     "shell.execute_reply": "2023-09-23T01:53:18.749117Z"
    },
    "papermill": {
     "duration": 3.082874,
     "end_time": "2023-09-23T01:53:18.754143",
     "exception": false,
     "start_time": "2023-09-23T01:53:15.671269",
     "status": "completed"
    },
    "tags": []
   },
   "outputs": [
    {
     "data": {
      "image/png": "[encoded data removed]"
     },
     "metadata": {
      "image/png": {
       "height": 420,
       "width": 420
      }
     },
     "output_type": "display_data"
    }
   ],
   "source": [
    "ggplot(data = df2_na_col, aes(x=member_casual,fill=member_casual)) + geom_bar(position = position_dodge()) + \n",
    "labs(title = \"Membership holders VS casual users NA values\", subtitle=\"Membership Holders attain more NA start and end station values\") +\n",
    "theme(legend.position = \"top\")"
   ]
  },
  {
   "cell_type": "markdown",
   "id": "c5a1c473",
   "metadata": {
    "papermill": {
     "duration": 0.028495,
     "end_time": "2023-09-23T01:53:18.812471",
     "exception": false,
     "start_time": "2023-09-23T01:53:18.783976",
     "status": "completed"
    },
    "tags": []
   },
   "source": [
    "Membership holders attain a higher amount of NA values in our data set. This is for both Start and end station names in our data. However, Casual riders have much more End Lattitude and Longitude values. Once more, further investigation will be required to determine the reason for this."
   ]
  },
  {
   "cell_type": "markdown",
   "id": "e379dd67",
   "metadata": {
    "papermill": {
     "duration": 0.028633,
     "end_time": "2023-09-23T01:53:18.870477",
     "exception": false,
     "start_time": "2023-09-23T01:53:18.841844",
     "status": "completed"
    },
    "tags": []
   },
   "source": [
    "# Last thoughts\n",
    "* Theft may help explain our missing bikes for casual members\n",
    "* NA values for membership holders will require further investigation"
   ]
  }
 ],
 "metadata": {
  "kernelspec": {
   "display_name": "R",
   "language": "R",
   "name": "ir"
  },
  "language_info": {
   "codemirror_mode": "r",
   "file_extension": ".r",
   "mimetype": "text/x-r-source",
   "name": "R",
   "pygments_lexer": "r",
   "version": "4.0.5"
  },
  "papermill": {
   "default_parameters": {},
   "duration": 131.547228,
   "end_time": "2023-09-23T01:53:19.322671",
   "environment_variables": {},
   "exception": null,
   "input_path": "__notebook__.ipynb",
   "output_path": "__notebook__.ipynb",
   "parameters": {},
   "start_time": "2023-09-23T01:51:07.775443",
   "version": "2.4.0"
  }
 },
 "nbformat": 4,
 "nbformat_minor": 5
}
